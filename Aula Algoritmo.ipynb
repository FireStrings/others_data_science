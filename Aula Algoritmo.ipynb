{
 "cells": [
  {
   "cell_type": "code",
   "execution_count": 1,
   "id": "d803d7ca-3551-4efe-8d0a-b5ec5f2bf6a0",
   "metadata": {},
   "outputs": [],
   "source": [
    "import numpy as np\n",
    "import seaborn as sns\n",
    "import math\n",
    "import matplotlib.pyplot as plt\n",
    "%matplotlib inline"
   ]
  },
  {
   "cell_type": "markdown",
   "id": "254c6cef-31d2-4e38-b281-dd1cb155d24f",
   "metadata": {},
   "source": [
    "### Complexidade dos algoritmos"
   ]
  },
  {
   "cell_type": "code",
   "execution_count": 1,
   "id": "7f12f484-c609-4f5a-a20f-f24492ec4e98",
   "metadata": {},
   "outputs": [
    {
     "ename": "NameError",
     "evalue": "name 'np' is not defined",
     "output_type": "error",
     "traceback": [
      "\u001b[0;31m---------------------------------------------------------------------------\u001b[0m",
      "\u001b[0;31mNameError\u001b[0m                                 Traceback (most recent call last)",
      "\u001b[0;32m<ipython-input-1-ad5945e15306>\u001b[0m in \u001b[0;36m<module>\u001b[0;34m\u001b[0m\n\u001b[0;32m----> 1\u001b[0;31m \u001b[0mn\u001b[0m \u001b[0;34m=\u001b[0m \u001b[0mnp\u001b[0m\u001b[0;34m.\u001b[0m\u001b[0marange\u001b[0m\u001b[0;34m(\u001b[0m\u001b[0;36m1.\u001b[0m\u001b[0;34m,\u001b[0m \u001b[0;36m32.\u001b[0m\u001b[0;34m,\u001b[0m \u001b[0;36m0.2\u001b[0m\u001b[0;34m)\u001b[0m\u001b[0;34m\u001b[0m\u001b[0;34m\u001b[0m\u001b[0m\n\u001b[0m\u001b[1;32m      2\u001b[0m \u001b[0mplt\u001b[0m\u001b[0;34m.\u001b[0m\u001b[0mplot\u001b[0m\u001b[0;34m(\u001b[0m\u001b[0mn\u001b[0m\u001b[0;34m,\u001b[0m \u001b[0;36m4\u001b[0m\u001b[0;34m*\u001b[0m\u001b[0mn\u001b[0m\u001b[0;34m+\u001b[0m\u001b[0;36m4\u001b[0m\u001b[0;34m,\u001b[0m \u001b[0;34m'r'\u001b[0m\u001b[0;34m,\u001b[0m \u001b[0mlabel\u001b[0m\u001b[0;34m=\u001b[0m\u001b[0;34m'4n+4'\u001b[0m\u001b[0;34m)\u001b[0m\u001b[0;34m\u001b[0m\u001b[0;34m\u001b[0m\u001b[0m\n\u001b[1;32m      3\u001b[0m \u001b[0mplt\u001b[0m\u001b[0;34m.\u001b[0m\u001b[0mplot\u001b[0m\u001b[0;34m(\u001b[0m\u001b[0mn\u001b[0m\u001b[0;34m,\u001b[0m \u001b[0;36m2\u001b[0m\u001b[0;34m*\u001b[0m\u001b[0mn\u001b[0m\u001b[0;34m*\u001b[0m\u001b[0mnp\u001b[0m\u001b[0;34m.\u001b[0m\u001b[0mlog2\u001b[0m\u001b[0;34m(\u001b[0m\u001b[0mn\u001b[0m\u001b[0;34m)\u001b[0m\u001b[0;34m,\u001b[0m \u001b[0;34m'b'\u001b[0m\u001b[0;34m,\u001b[0m\u001b[0mlabel\u001b[0m\u001b[0;34m=\u001b[0m\u001b[0;34m'2n*nlog(n)'\u001b[0m\u001b[0;34m)\u001b[0m\u001b[0;34m\u001b[0m\u001b[0;34m\u001b[0m\u001b[0m\n\u001b[1;32m      4\u001b[0m \u001b[0mplt\u001b[0m\u001b[0;34m.\u001b[0m\u001b[0mxlabel\u001b[0m\u001b[0;34m(\u001b[0m\u001b[0;34m'Tamanho da entrada (n)'\u001b[0m\u001b[0;34m)\u001b[0m\u001b[0;34m\u001b[0m\u001b[0;34m\u001b[0m\u001b[0m\n\u001b[1;32m      5\u001b[0m \u001b[0mplt\u001b[0m\u001b[0;34m.\u001b[0m\u001b[0mylabel\u001b[0m\u001b[0;34m(\u001b[0m\u001b[0;34m'f(n)'\u001b[0m\u001b[0;34m)\u001b[0m\u001b[0;34m\u001b[0m\u001b[0;34m\u001b[0m\u001b[0m\n",
      "\u001b[0;31mNameError\u001b[0m: name 'np' is not defined"
     ]
    }
   ],
   "source": [
    "n = np.arange(1., 32., 0.2)\n",
    "plt.plot(n, 4*n+4, 'r', label='4n+4')\n",
    "plt.plot(n, 2*n*np.log2(n), 'b',label='2n*nlog(n)')\n",
    "plt.xlabel('Tamanho da entrada (n)')\n",
    "plt.ylabel('f(n)')\n",
    "plt.legend()\n",
    "plt.show()"
   ]
  },
  {
   "cell_type": "code",
   "execution_count": 4,
   "id": "7b5a4ecd-3db7-4719-a608-6518ffc82026",
   "metadata": {},
   "outputs": [
    {
     "name": "stderr",
     "output_type": "stream",
     "text": [
      "/usr/local/lib/python3.6/dist-packages/ipykernel_launcher.py:5: RuntimeWarning: divide by zero encountered in log2\n",
      "  \"\"\"\n",
      "/usr/local/lib/python3.6/dist-packages/ipykernel_launcher.py:5: RuntimeWarning: invalid value encountered in multiply\n",
      "  \"\"\"\n"
     ]
    },
    {
     "data": {
      "image/png": "[encoded data removed]",
      "text/plain": [
       "<Figure size 432x288 with 1 Axes>"
      ]
     },
     "metadata": {
      "needs_background": "light"
     },
     "output_type": "display_data"
    }
   ],
   "source": [
    "n = np.arange(0., 50., 0.2)\n",
    "plt.plot(n, n**2+n, 'r', label='n^2+n')\n",
    "plt.plot(n, n**2+3*n, 'b', label='n^2+3n')\n",
    "plt.plot(n, n**2+7, 'g', label='n^2+7')\n",
    "plt.plot(n, 2*n*np.log2(n), 'y',label='2n*nlog(n)')\n",
    "plt.xlabel('Tamanho da entrada (n)')\n",
    "plt.ylabel('f(n)')\n",
    "plt.legend()\n",
    "plt.show()"
   ]
  },
  {
   "cell_type": "markdown",
   "id": "09d9179c-8c09-4e68-9c09-bc03daa1627f",
   "metadata": {},
   "source": [
    "### 1 - Busca de indice do vetor\n",
    "Complexidade: log n"
   ]
  },
  {
   "cell_type": "code",
   "execution_count": 5,
   "id": "e4980cab-5448-43cd-8163-f60bfe6f8e76",
   "metadata": {},
   "outputs": [
    {
     "name": "stdout",
     "output_type": "stream",
     "text": [
      "4\n"
     ]
    }
   ],
   "source": [
    "v = [10, 20, 30, 40, 50]\n",
    "# meio = 2\n",
    "# n = 40\n",
    "# print(vet[meio + 1:])\n",
    "\n",
    "def busca_indice(vet, start, end, n):\n",
    "    meio = 0\n",
    "    if start > end:\n",
    "        return -1\n",
    "    \n",
    "    else:\n",
    "        meio = math.floor((start+end)/2)\n",
    "    \n",
    "    if n == vet[meio]:\n",
    "        return meio\n",
    "    \n",
    "    else:\n",
    "        if n < vet[meio]:\n",
    "            return busca_indice(vet, start, meio-1, n)\n",
    "        \n",
    "        else:\n",
    "            return busca_indice(vet, meio + 1, end, n)\n",
    "\n",
    "print(busca_indice(v, 0, len(v)-1, 50))"
   ]
  },
  {
   "cell_type": "code",
   "execution_count": 77,
   "id": "89669654-3247-4141-bb03-096f806dcb7f",
   "metadata": {},
   "outputs": [],
   "source": [
    "def bbr(a, x, inicio, fim):\n",
    "    meio = 0\n",
    "    if (inicio > fim):\n",
    "        return -1\n",
    "    else:\n",
    "        meio = math.floor((inicio + fim) / 2)\n",
    "\n",
    "    if (x == a[meio]):\n",
    "        return meio\n",
    "    else:\n",
    "        if (x < a[meio]):\n",
    "            return bbr(a, x, inicio, meio - 1)\n",
    "        else:\n",
    "            return bbr(a, x, meio + 1, fim)"
   ]
  },
  {
   "cell_type": "code",
   "execution_count": 78,
   "id": "4617e193-99b0-4ccb-82bd-51706c89303a",
   "metadata": {},
   "outputs": [
    {
     "data": {
      "text/plain": [
       "-1"
      ]
     },
     "execution_count": 78,
     "metadata": {},
     "output_type": "execute_result"
    }
   ],
   "source": [
    "bbr(v, 200, 0, len(v) - 1)"
   ]
  },
  {
   "cell_type": "markdown",
   "id": "35b8124c-6771-42ff-b63c-40456e1f03b3",
   "metadata": {},
   "source": [
    "### 2 - Palindromo"
   ]
  },
  {
   "cell_type": "code",
   "execution_count": 53,
   "id": "117a5fc8-afb3-464c-8df4-11967e764e92",
   "metadata": {},
   "outputs": [],
   "source": [
    "def palindromo(palavra):\n",
    "    word_list = list(palavra)\n",
    "    _len = len(word_list)\n",
    "    inverse_word_list = []\n",
    "    for i in range(_len):\n",
    "        inverse_word_list.append(word_list[_len-1-i])\n",
    "     \n",
    "    if word_list == inverse_word_list:\n",
    "        print(\"Its a palindrome!\")\n",
    "    else:\n",
    "        print(\"No, its not!\")\n",
    "\n",
    "def reverse_numbers(numbers):\n",
    "\n",
    "    _len = len(numbers)\n",
    "    inverse_numbers = []\n",
    "    for i in range(_len):\n",
    "        inverse_numbers.append(numbers[_len-1-i])\n",
    " \n",
    "    print(numbers)\n",
    "    print(inverse_numbers)"
   ]
  },
  {
   "cell_type": "code",
   "execution_count": 55,
   "id": "dd9112c5-09c5-499e-867e-ea1945d3c08b",
   "metadata": {},
   "outputs": [
    {
     "name": "stdout",
     "output_type": "stream",
     "text": [
      "No, its not!\n"
     ]
    }
   ],
   "source": [
    "palindromo(\"araras\")\n",
    "# palindromo_numbers([10,20,30,40])"
   ]
  },
  {
   "cell_type": "code",
   "execution_count": 205,
   "id": "9a3d6b59-940f-496f-93c6-c95d88fcf3a7",
   "metadata": {},
   "outputs": [
    {
     "data": {
      "text/plain": [
       "[13]"
      ]
     },
     "execution_count": 205,
     "metadata": {},
     "output_type": "execute_result"
    }
   ],
   "source": [
    "[13,7][0:1] "
   ]
  },
  {
   "cell_type": "markdown",
   "id": "2d57f962-87c0-4d73-ae6d-8228f2e20a28",
   "metadata": {},
   "source": [
    "### 3 - Merge Sort"
   ]
  },
  {
   "cell_type": "code",
   "execution_count": 233,
   "id": "07ea4387-b6aa-436a-894e-3bb0a0a4e0c5",
   "metadata": {},
   "outputs": [
    {
     "name": "stdout",
     "output_type": "stream",
     "text": [
      "(([10], ([2], [6])), (([4], [12]), ([13], [7])))\n"
     ]
    }
   ],
   "source": [
    "def merge_sort(number_list):\n",
    "    start = 0\n",
    "    end = len(number_list)\n",
    "    \n",
    "    if len(number_list) < 1:\n",
    "        return number_list\n",
    "   \n",
    "    meio = math.floor((start+end)/2)\n",
    "    \n",
    "    if len(number_list) == 1:\n",
    "        return number_list\n",
    "    \n",
    "    left_list = number_list[start:meio]\n",
    "    right_list = number_list[meio:end]\n",
    "    \n",
    "    if len(right_list) == 1 and meio == 0:\n",
    "        right_list = number_list[0:0]\n",
    "    else:\n",
    "        right_list = number_list[meio:end]\n",
    "    \n",
    "    return merge_sort(left_list), merge_sort(right_list)\n",
    "    \n",
    "number_list = [10,2,6,4,12,13,7]   \n",
    "\n",
    "print(merge_sort(number_list))"
   ]
  },
  {
   "cell_type": "markdown",
   "id": "86762627-88b2-4e36-8b81-b206ed6193fa",
   "metadata": {},
   "source": [
    "### 4 - Duplicate"
   ]
  },
  {
   "cell_type": "code",
   "execution_count": 280,
   "id": "84cc6df4-8ada-4eca-853b-51ef0e6da1d6",
   "metadata": {},
   "outputs": [
    {
     "name": "stdout",
     "output_type": "stream",
     "text": [
      "Tamanho: 3\n",
      "N. operacoes: 3\n",
      "Tamanho / Operacoes: 1.0\n",
      "Tamanho / Operacoes: 1.0\n",
      "Log do tamanho: 1.0986122886681098\n",
      "N * Log do tamanho: 3.295836866004329\n"
     ]
    }
   ],
   "source": [
    "def search_duplicate(word, size):\n",
    "    count = 0\n",
    "    l_word = list(word)\n",
    "    for i in range(len(l_word)):\n",
    "        for j in range(i+1, len(l_word)):\n",
    "            count=count+1\n",
    "            \n",
    "    print(\"Tamanho: \" + str(size))\n",
    "    print(\"N. operacoes: \" + str(count))\n",
    "    print(\"Tamanho / Operacoes: \" + str((size / count)))\n",
    "    print(\"Tamanho / Operacoes: \" + str((count / size)))\n",
    "    print(\"Log do tamanho: \" + str(math.log(size)))\n",
    "    print(\"N * Log do tamanho: \" + str(size*math.log(size)))\n",
    "    \n",
    "_input = \"123456789124578547879846548678977465464654658789\"\n",
    "search_duplicate(_input, len(_input))"
   ]
  },
  {
   "cell_type": "markdown",
   "id": "f87b6db9-98cd-4672-a515-d9a0c95931e1",
   "metadata": {},
   "source": [
    "### 5 - Complexity"
   ]
  },
  {
   "cell_type": "code",
   "execution_count": 317,
   "id": "d9bcdcb0-e620-49fe-b50d-dbabec5f51f1",
   "metadata": {},
   "outputs": [
    {
     "name": "stdout",
     "output_type": "stream",
     "text": [
      "N. operacoes do algoritmo: 8960\n",
      "N**4: 4096\n",
      "N**5: 32768\n",
      "Fatorial da entrada: 40320\n"
     ]
    }
   ],
   "source": [
    "# for i in range(n):\n",
    "#     fn1(i) #O(1) * n\n",
    "#     for j in range(n):\n",
    "#         fn2(j) #O(n) * n\n",
    "#         for k in range(n):\n",
    "#             fn3(k) #O(n2) * n\n",
    "# n**6 ?\n",
    "class Count():\n",
    "    count = 0\n",
    "    \n",
    "\n",
    "def fn1(n):\n",
    "    n\n",
    "\n",
    "def fn2(n):\n",
    "    for i in range(n):\n",
    "        i\n",
    "\n",
    "def fn3(n):\n",
    "    for i in range(n):\n",
    "        for j in range(n):\n",
    "            Count.count = Count.count + 1\n",
    "            \n",
    "            \n",
    "n = [1,2,3,4,5,6,7,8]\n",
    "for i in range(len(n)):\n",
    "    \n",
    "    fn1(i) #O(1) * n\n",
    "    for j in range(len(n)):\n",
    "        fn2(j) #O(n) * n\n",
    "        for k in range(len(n)):\n",
    "            fn3(k) #O(n2) * n\n",
    "            \n",
    "print(\"N. operacoes do algoritmo: \" + str(Count.count)) \n",
    "print(\"N**4: \" + str(len(n)**4))\n",
    "print(\"N**5: \" + str(len(n)**5))\n",
    "print(\"Fatorial da entrada: \" + str(math.factorial(len(n))))"
   ]
  },
  {
   "cell_type": "markdown",
   "id": "53aaa496-7818-457d-be4e-3893b8ade5f2",
   "metadata": {},
   "source": [
    "### Subsequente"
   ]
  },
  {
   "cell_type": "code",
   "execution_count": 93,
   "id": "d647fbf7-0773-4aac-895a-8a2eb8a86a82",
   "metadata": {},
   "outputs": [],
   "source": [
    "v1 = [9, 5, 6, 5, 9, 6, 4, 7]\n",
    "v2 = [5, 6, 6, 7]\n",
    "\n",
    "def subseq(v1, v2):\n",
    "    v3 = []\n",
    "    []\n",
    "    v1_mod = [9, 5, 6, 5, 9, 6, 4, 7]\n",
    "    for i in range(len(v2)):\n",
    "        for j in range(len(v1)):\n",
    "            if v2[i] == v1[j] and v1[j] == v1_mod[j]:\n",
    "                v1_mod[j] = \"\"\n",
    "                v1\n",
    "                v3.append(j)\n",
    "                print(\"\")\n",
    "                break\n",
    "        \n",
    "    return v3"
   ]
  },
  {
   "cell_type": "code",
   "execution_count": 94,
   "id": "2aa492d6-4512-4fa7-8dea-51d324d2dd5c",
   "metadata": {},
   "outputs": [
    {
     "name": "stdout",
     "output_type": "stream",
     "text": [
      "achou\n",
      "\n",
      "achou\n",
      "\n",
      "achou\n",
      "\n",
      "achou\n",
      "\n",
      "[1, 2, 5, 7]\n"
     ]
    }
   ],
   "source": [
    "print(subseq(v1, v2))"
   ]
  },
  {
   "cell_type": "code",
   "execution_count": 84,
   "id": "4f2e2946-f442-44e0-993e-120b349902d9",
   "metadata": {},
   "outputs": [],
   "source": [
    "# 1, 2, 5, 7"
   ]
  },
  {
   "cell_type": "code",
   "execution_count": 5,
   "id": "d59cba81-5256-4690-8de5-a0ae52520cee",
   "metadata": {},
   "outputs": [],
   "source": [
    "import math"
   ]
  },
  {
   "cell_type": "code",
   "execution_count": 10,
   "id": "13574c68-072e-485f-9bbc-9b223c94112d",
   "metadata": {},
   "outputs": [
    {
     "ename": "SyntaxError",
     "evalue": "invalid syntax (<ipython-input-10-5fdf1c72ffc3>, line 22)",
     "output_type": "error",
     "traceback": [
      "\u001b[0;36m  File \u001b[0;32m\"<ipython-input-10-5fdf1c72ffc3>\"\u001b[0;36m, line \u001b[0;32m22\u001b[0m\n\u001b[0;31m    for (i = mid) downto start:\u001b[0m\n\u001b[0m           ^\u001b[0m\n\u001b[0;31mSyntaxError\u001b[0m\u001b[0;31m:\u001b[0m invalid syntax\n"
     ]
    }
   ],
   "source": [
    "def find_maximum_subarray(A, start, final):\n",
    "    # base case: only one element\n",
    "    if final == start:\n",
    "        return (start, final, A[start]) # return the sequence: [start, ..., final] and sum\n",
    "    else:\n",
    "        mid = math.floor((start + final)/2)\n",
    "        (l_start, l_final, l_sum) = find_maximum_subarray(A, start, mid)\n",
    "        (r_start, r_final, r_sum) = find_maximum_subarray(A, mid+1, final)\n",
    "        (x_start, x_final, x_sum) = find_max_crossing_subarray(A, start, mid, final)\n",
    "    # Find the best solution of the three:\n",
    "    if l_sum >= r_sum and l_sum >= x_sum:\n",
    "        return (l_start, l_final, l_sum)\n",
    "    elif r_sum >= l_sum and r_sum >= x_sum:\n",
    "        return (r_start, r_final, r_sum)\n",
    "    else:\n",
    "        return (x_start, x_final, x_sum)\n",
    "\n",
    "def find_max_crossing_subarray(A, start, mid, final):\n",
    "    # Find a maximum subarray of the form A[i..mid]\n",
    "    l_sum = - infinity # Lower-bound sentinel\n",
    "    sum = 0\n",
    "    for (i = mid) downto start:\n",
    "        sum += A[i]\n",
    "        if sum > l_sum:\n",
    "            l_sum = sum\n",
    "            l_max = i\n",
    "    # Find a maximum subarray of the form A[mid+1..j]\n",
    "    r_sum = - infinity # Lower-bound sentinel\n",
    "    sum = 0\n",
    "    for j = mid to final:\n",
    "        sum += A[j]\n",
    "        if sum > r_sum:\n",
    "            r_sum = sum\n",
    "            r_max = j\n",
    "    # Return the indices and the sum of the two subarrays\n",
    "    return (l_max, r_max, l_sum + r_sum)"
   ]
  },
  {
   "cell_type": "code",
   "execution_count": 9,
   "id": "67a5c624-ad8d-453a-8cb4-853edb472715",
   "metadata": {},
   "outputs": [
    {
     "ename": "NameError",
     "evalue": "name 'find_max_crossing_subarray' is not defined",
     "output_type": "error",
     "traceback": [
      "\u001b[0;31m---------------------------------------------------------------------------\u001b[0m",
      "\u001b[0;31mNameError\u001b[0m                                 Traceback (most recent call last)",
      "\u001b[0;32m<ipython-input-9-10aad671e0af>\u001b[0m in \u001b[0;36m<module>\u001b[0;34m\u001b[0m\n\u001b[1;32m      1\u001b[0m \u001b[0marr\u001b[0m \u001b[0;34m=\u001b[0m \u001b[0;34m[\u001b[0m\u001b[0;36m18\u001b[0m\u001b[0;34m,\u001b[0m \u001b[0;36m20\u001b[0m\u001b[0;34m,\u001b[0m \u001b[0;34m-\u001b[0m\u001b[0;36m7\u001b[0m\u001b[0;34m,\u001b[0m \u001b[0;36m12\u001b[0m\u001b[0;34m,\u001b[0m \u001b[0;34m-\u001b[0m\u001b[0;36m5\u001b[0m\u001b[0;34m,\u001b[0m \u001b[0;34m-\u001b[0m\u001b[0;36m22\u001b[0m\u001b[0;34m]\u001b[0m\u001b[0;34m\u001b[0m\u001b[0;34m\u001b[0m\u001b[0m\n\u001b[0;32m----> 2\u001b[0;31m \u001b[0mfind_maximum_subarray\u001b[0m\u001b[0;34m(\u001b[0m\u001b[0marr\u001b[0m\u001b[0;34m,\u001b[0m \u001b[0;36m0\u001b[0m\u001b[0;34m,\u001b[0m \u001b[0mlen\u001b[0m\u001b[0;34m(\u001b[0m\u001b[0marr\u001b[0m\u001b[0;34m)\u001b[0m\u001b[0;34m)\u001b[0m\u001b[0;34m\u001b[0m\u001b[0;34m\u001b[0m\u001b[0m\n\u001b[0m",
      "\u001b[0;32m<ipython-input-8-49bf787557d6>\u001b[0m in \u001b[0;36mfind_maximum_subarray\u001b[0;34m(A, start, final)\u001b[0m\n\u001b[1;32m      5\u001b[0m     \u001b[0;32melse\u001b[0m\u001b[0;34m:\u001b[0m\u001b[0;34m\u001b[0m\u001b[0;34m\u001b[0m\u001b[0m\n\u001b[1;32m      6\u001b[0m         \u001b[0mmid\u001b[0m \u001b[0;34m=\u001b[0m \u001b[0mmath\u001b[0m\u001b[0;34m.\u001b[0m\u001b[0mfloor\u001b[0m\u001b[0;34m(\u001b[0m\u001b[0;34m(\u001b[0m\u001b[0mstart\u001b[0m \u001b[0;34m+\u001b[0m \u001b[0mfinal\u001b[0m\u001b[0;34m)\u001b[0m\u001b[0;34m/\u001b[0m\u001b[0;36m2\u001b[0m\u001b[0;34m)\u001b[0m\u001b[0;34m\u001b[0m\u001b[0;34m\u001b[0m\u001b[0m\n\u001b[0;32m----> 7\u001b[0;31m         \u001b[0;34m(\u001b[0m\u001b[0ml_start\u001b[0m\u001b[0;34m,\u001b[0m \u001b[0ml_final\u001b[0m\u001b[0;34m,\u001b[0m \u001b[0ml_sum\u001b[0m\u001b[0;34m)\u001b[0m \u001b[0;34m=\u001b[0m \u001b[0mfind_maximum_subarray\u001b[0m\u001b[0;34m(\u001b[0m\u001b[0mA\u001b[0m\u001b[0;34m,\u001b[0m \u001b[0mstart\u001b[0m\u001b[0;34m,\u001b[0m \u001b[0mmid\u001b[0m\u001b[0;34m)\u001b[0m\u001b[0;34m\u001b[0m\u001b[0;34m\u001b[0m\u001b[0m\n\u001b[0m\u001b[1;32m      8\u001b[0m         \u001b[0;34m(\u001b[0m\u001b[0mr_start\u001b[0m\u001b[0;34m,\u001b[0m \u001b[0mr_final\u001b[0m\u001b[0;34m,\u001b[0m \u001b[0mr_sum\u001b[0m\u001b[0;34m)\u001b[0m \u001b[0;34m=\u001b[0m \u001b[0mfind_maximum_subarray\u001b[0m\u001b[0;34m(\u001b[0m\u001b[0mA\u001b[0m\u001b[0;34m,\u001b[0m \u001b[0mmid\u001b[0m\u001b[0;34m+\u001b[0m\u001b[0;36m1\u001b[0m\u001b[0;34m,\u001b[0m \u001b[0mfinal\u001b[0m\u001b[0;34m)\u001b[0m\u001b[0;34m\u001b[0m\u001b[0;34m\u001b[0m\u001b[0m\n\u001b[1;32m      9\u001b[0m         \u001b[0;34m(\u001b[0m\u001b[0mx_start\u001b[0m\u001b[0;34m,\u001b[0m \u001b[0mx_final\u001b[0m\u001b[0;34m,\u001b[0m \u001b[0mx_sum\u001b[0m\u001b[0;34m)\u001b[0m \u001b[0;34m=\u001b[0m \u001b[0mfind_max_crossing_subarray\u001b[0m\u001b[0;34m(\u001b[0m\u001b[0mA\u001b[0m\u001b[0;34m,\u001b[0m \u001b[0mstart\u001b[0m\u001b[0;34m,\u001b[0m \u001b[0mmid\u001b[0m\u001b[0;34m,\u001b[0m \u001b[0mfinal\u001b[0m\u001b[0;34m)\u001b[0m\u001b[0;34m\u001b[0m\u001b[0;34m\u001b[0m\u001b[0m\n",
      "\u001b[0;32m<ipython-input-8-49bf787557d6>\u001b[0m in \u001b[0;36mfind_maximum_subarray\u001b[0;34m(A, start, final)\u001b[0m\n\u001b[1;32m      5\u001b[0m     \u001b[0;32melse\u001b[0m\u001b[0;34m:\u001b[0m\u001b[0;34m\u001b[0m\u001b[0;34m\u001b[0m\u001b[0m\n\u001b[1;32m      6\u001b[0m         \u001b[0mmid\u001b[0m \u001b[0;34m=\u001b[0m \u001b[0mmath\u001b[0m\u001b[0;34m.\u001b[0m\u001b[0mfloor\u001b[0m\u001b[0;34m(\u001b[0m\u001b[0;34m(\u001b[0m\u001b[0mstart\u001b[0m \u001b[0;34m+\u001b[0m \u001b[0mfinal\u001b[0m\u001b[0;34m)\u001b[0m\u001b[0;34m/\u001b[0m\u001b[0;36m2\u001b[0m\u001b[0;34m)\u001b[0m\u001b[0;34m\u001b[0m\u001b[0;34m\u001b[0m\u001b[0m\n\u001b[0;32m----> 7\u001b[0;31m         \u001b[0;34m(\u001b[0m\u001b[0ml_start\u001b[0m\u001b[0;34m,\u001b[0m \u001b[0ml_final\u001b[0m\u001b[0;34m,\u001b[0m \u001b[0ml_sum\u001b[0m\u001b[0;34m)\u001b[0m \u001b[0;34m=\u001b[0m \u001b[0mfind_maximum_subarray\u001b[0m\u001b[0;34m(\u001b[0m\u001b[0mA\u001b[0m\u001b[0;34m,\u001b[0m \u001b[0mstart\u001b[0m\u001b[0;34m,\u001b[0m \u001b[0mmid\u001b[0m\u001b[0;34m)\u001b[0m\u001b[0;34m\u001b[0m\u001b[0;34m\u001b[0m\u001b[0m\n\u001b[0m\u001b[1;32m      8\u001b[0m         \u001b[0;34m(\u001b[0m\u001b[0mr_start\u001b[0m\u001b[0;34m,\u001b[0m \u001b[0mr_final\u001b[0m\u001b[0;34m,\u001b[0m \u001b[0mr_sum\u001b[0m\u001b[0;34m)\u001b[0m \u001b[0;34m=\u001b[0m \u001b[0mfind_maximum_subarray\u001b[0m\u001b[0;34m(\u001b[0m\u001b[0mA\u001b[0m\u001b[0;34m,\u001b[0m \u001b[0mmid\u001b[0m\u001b[0;34m+\u001b[0m\u001b[0;36m1\u001b[0m\u001b[0;34m,\u001b[0m \u001b[0mfinal\u001b[0m\u001b[0;34m)\u001b[0m\u001b[0;34m\u001b[0m\u001b[0;34m\u001b[0m\u001b[0m\n\u001b[1;32m      9\u001b[0m         \u001b[0;34m(\u001b[0m\u001b[0mx_start\u001b[0m\u001b[0;34m,\u001b[0m \u001b[0mx_final\u001b[0m\u001b[0;34m,\u001b[0m \u001b[0mx_sum\u001b[0m\u001b[0;34m)\u001b[0m \u001b[0;34m=\u001b[0m \u001b[0mfind_max_crossing_subarray\u001b[0m\u001b[0;34m(\u001b[0m\u001b[0mA\u001b[0m\u001b[0;34m,\u001b[0m \u001b[0mstart\u001b[0m\u001b[0;34m,\u001b[0m \u001b[0mmid\u001b[0m\u001b[0;34m,\u001b[0m \u001b[0mfinal\u001b[0m\u001b[0;34m)\u001b[0m\u001b[0;34m\u001b[0m\u001b[0;34m\u001b[0m\u001b[0m\n",
      "\u001b[0;32m<ipython-input-8-49bf787557d6>\u001b[0m in \u001b[0;36mfind_maximum_subarray\u001b[0;34m(A, start, final)\u001b[0m\n\u001b[1;32m      7\u001b[0m         \u001b[0;34m(\u001b[0m\u001b[0ml_start\u001b[0m\u001b[0;34m,\u001b[0m \u001b[0ml_final\u001b[0m\u001b[0;34m,\u001b[0m \u001b[0ml_sum\u001b[0m\u001b[0;34m)\u001b[0m \u001b[0;34m=\u001b[0m \u001b[0mfind_maximum_subarray\u001b[0m\u001b[0;34m(\u001b[0m\u001b[0mA\u001b[0m\u001b[0;34m,\u001b[0m \u001b[0mstart\u001b[0m\u001b[0;34m,\u001b[0m \u001b[0mmid\u001b[0m\u001b[0;34m)\u001b[0m\u001b[0;34m\u001b[0m\u001b[0;34m\u001b[0m\u001b[0m\n\u001b[1;32m      8\u001b[0m         \u001b[0;34m(\u001b[0m\u001b[0mr_start\u001b[0m\u001b[0;34m,\u001b[0m \u001b[0mr_final\u001b[0m\u001b[0;34m,\u001b[0m \u001b[0mr_sum\u001b[0m\u001b[0;34m)\u001b[0m \u001b[0;34m=\u001b[0m \u001b[0mfind_maximum_subarray\u001b[0m\u001b[0;34m(\u001b[0m\u001b[0mA\u001b[0m\u001b[0;34m,\u001b[0m \u001b[0mmid\u001b[0m\u001b[0;34m+\u001b[0m\u001b[0;36m1\u001b[0m\u001b[0;34m,\u001b[0m \u001b[0mfinal\u001b[0m\u001b[0;34m)\u001b[0m\u001b[0;34m\u001b[0m\u001b[0;34m\u001b[0m\u001b[0m\n\u001b[0;32m----> 9\u001b[0;31m         \u001b[0;34m(\u001b[0m\u001b[0mx_start\u001b[0m\u001b[0;34m,\u001b[0m \u001b[0mx_final\u001b[0m\u001b[0;34m,\u001b[0m \u001b[0mx_sum\u001b[0m\u001b[0;34m)\u001b[0m \u001b[0;34m=\u001b[0m \u001b[0mfind_max_crossing_subarray\u001b[0m\u001b[0;34m(\u001b[0m\u001b[0mA\u001b[0m\u001b[0;34m,\u001b[0m \u001b[0mstart\u001b[0m\u001b[0;34m,\u001b[0m \u001b[0mmid\u001b[0m\u001b[0;34m,\u001b[0m \u001b[0mfinal\u001b[0m\u001b[0;34m)\u001b[0m\u001b[0;34m\u001b[0m\u001b[0;34m\u001b[0m\u001b[0m\n\u001b[0m\u001b[1;32m     10\u001b[0m     \u001b[0;31m# Find the best solution of the three:\u001b[0m\u001b[0;34m\u001b[0m\u001b[0;34m\u001b[0m\u001b[0;34m\u001b[0m\u001b[0m\n\u001b[1;32m     11\u001b[0m     \u001b[0;32mif\u001b[0m \u001b[0ml_sum\u001b[0m \u001b[0;34m>=\u001b[0m \u001b[0mr_sum\u001b[0m \u001b[0;32mand\u001b[0m \u001b[0ml_sum\u001b[0m \u001b[0;34m>=\u001b[0m \u001b[0mx_sum\u001b[0m\u001b[0;34m:\u001b[0m\u001b[0;34m\u001b[0m\u001b[0;34m\u001b[0m\u001b[0m\n",
      "\u001b[0;31mNameError\u001b[0m: name 'find_max_crossing_subarray' is not defined"
     ]
    }
   ],
   "source": [
    "arr = [18, 20, -7, 12, -5, -22]\n",
    "find_maximum_subarray(arr, 0, len(arr))"
   ]
  },
  {
   "cell_type": "markdown",
   "id": "4e4a70aa-67da-443b-9c43-089211a3c76e",
   "metadata": {},
   "source": [
    "## Exercicios"
   ]
  },
  {
   "cell_type": "markdown",
   "id": "c0c40aeb-e9b4-470a-b596-bb758695894c",
   "metadata": {},
   "source": [
    "### 1 - Exponencial"
   ]
  },
  {
   "cell_type": "code",
   "execution_count": 25,
   "id": "2ed7dba5-03d1-40a4-a378-28364e8f4237",
   "metadata": {},
   "outputs": [
    {
     "name": "stdout",
     "output_type": "stream",
     "text": [
      "Resultado: 1024\n",
      "Digito mais significativo: 1\n",
      "Grandeza: 10^3\n",
      "('1', 3)\n"
     ]
    }
   ],
   "source": [
    "def result_power(number, exp):\n",
    "    result = power(number, exp)\n",
    "    digito_mais_siginificativo = list(str(result))[0]\n",
    "    grandeza = len(str(result))-1\n",
    "    \n",
    "    print(\"Resultado: \" + str(result))\n",
    "    print(\"Digito mais significativo: \" + digito_mais_siginificativo)\n",
    "    print(\"Grandeza: 10^\" + str(grandeza))\n",
    "    \n",
    "    return digito_mais_siginificativo, grandeza\n",
    "\n",
    "def power(number, exp):\n",
    "    if exp == 0:\n",
    "        return 1\n",
    "    else:\n",
    "        result = power(number, int(exp/2))\n",
    "        if exp%2 == 0:\n",
    "            return result*result\n",
    "        else:\n",
    "            return result*result*number\n",
    "    \n",
    "print(result_power(2, 10))"
   ]
  },
  {
   "cell_type": "code",
   "execution_count": 41,
   "id": "f0eed7e3-2e6e-4c3b-8fe5-33c76a7d588c",
   "metadata": {},
   "outputs": [
    {
     "name": "stdin",
     "output_type": "stream",
     "text": [
      " 2 10\n"
     ]
    },
    {
     "name": "stdout",
     "output_type": "stream",
     "text": [
      "1 3\n"
     ]
    }
   ],
   "source": [
    "\"Nome: Leonardo Aparecido Lira Diniz\\\n",
    "Ra: 822065\\\n",
    "Curso: PAA\"\n",
    "\n",
    "def result_power(number, exp):\n",
    "    result = power(number, exp)\n",
    "    digito_mais_siginificativo = list(str(result))[0]\n",
    "#     grandeza = len(str(result))-1\n",
    "    expoentes = 0\n",
    "    if result < 10:\n",
    "        print(int(result), expoentes)\n",
    "        exit(0)\n",
    "\n",
    "    while result >= 10:\n",
    "        result /= 10\n",
    "        expoentes += 1\n",
    "    \n",
    "    return int(result), expoentes\n",
    "\n",
    "def power(number, exp):\n",
    "    if exp == 0:\n",
    "        return 1\n",
    "    else:\n",
    "        result = power(number, int(exp/2))\n",
    "        if exp%2 == 0:\n",
    "            return result*result\n",
    "        else:\n",
    "            return result*result*number\n",
    "b, n = input().split(' ')\n",
    "\n",
    "result = result_power(float(b), int(n))\n",
    "print(str(result[0]) + \" \" + str(result[1]))"
   ]
  },
  {
   "cell_type": "code",
   "execution_count": null,
   "id": "57fa1028-9d62-4b57-aa07-3c5eb1f19530",
   "metadata": {},
   "outputs": [],
   "source": []
  },
  {
   "cell_type": "code",
   "execution_count": 15,
   "id": "147439af-547c-4627-b28d-21b9df5c4ea3",
   "metadata": {},
   "outputs": [
    {
     "data": {
      "text/plain": [
       "'2 10'"
      ]
     },
     "execution_count": 15,
     "metadata": {},
     "output_type": "execute_result"
    }
   ],
   "source": [
    "a"
   ]
  },
  {
   "cell_type": "code",
   "execution_count": null,
   "id": "46efdc2d-75dc-40af-95ec-ea377081b3e3",
   "metadata": {},
   "outputs": [],
   "source": [
    "0 1 2 3 4\n",
    "1 4 3 2 0\n",
    "\n",
    "0 1 2 3 4\n",
    "1 3 4 2 0\n",
    "\n",
    "0 1 2 3 4\n",
    "1 3 2 4 0\n",
    "\n",
    "0 1 2 3 4\n",
    "1 3 2 0 4\n",
    "\n",
    "0 1 2 3 4\n",
    "1 2 3 0 4\n",
    "\n",
    "0 1 2 3 4\n",
    "1 2 0 3 4\n",
    "\n",
    "0 1 2 3 4\n",
    "1 0 2 3 4\n",
    "\n",
    "0 1 2 3 4\n",
    "0 1 2 3 4"
   ]
  },
  {
   "cell_type": "code",
   "execution_count": 4,
   "id": "cce747a7-ed7f-4efb-86a6-c2038203ba6c",
   "metadata": {},
   "outputs": [
    {
     "name": "stdout",
     "output_type": "stream",
     "text": [
      "Aqui\n",
      "Aqui\n",
      "Aqui\n",
      "Aqui\n",
      "Aqui\n",
      "[0, 1, 2, 3, 4]\n"
     ]
    }
   ],
   "source": [
    "gen_1 = [0, 1, 2, 3, 4]\n",
    "gen_2 = [1, 4, 3, 2, 0]\n",
    "gen_tmp = gen_2.copy()\n",
    "\n",
    "def gen_dist(start, end, gen_1, gen_2):\n",
    "    if len(gen_2) != 1:\n",
    "        meio = math.floor((start+end)/2)\n",
    "        l_side = gen_2[start:meio]\n",
    "        r_side = gen_2[meio:end]\n",
    "        \n",
    "        gen_dist(0, len(l_side), gen_1, l_side)\n",
    "        gen_dist(0, len(r_side), gen_1, r_side)\n",
    "        \n",
    "    else:\n",
    "        for i in range(len(gen_1)):\n",
    "            if gen_2[0] == gen_1[i]:\n",
    "                print(\"Aqui\")\n",
    "                gen_tmp[i] = gen_2[0]\n",
    "        \n",
    "gen_dist(0, 5, gen_1, gen_2)\n",
    "print(gen_tmp)"
   ]
  },
  {
   "cell_type": "code",
   "execution_count": 12,
   "id": "da46047a-60ee-48b4-9ddc-320fce33cb9c",
   "metadata": {},
   "outputs": [],
   "source": [
    "class A():\n",
    "    count = 0"
   ]
  },
  {
   "cell_type": "markdown",
   "id": "470da63c-21ba-432d-8945-e4584b6d865e",
   "metadata": {},
   "source": [
    "### Approach 1"
   ]
  },
  {
   "cell_type": "code",
   "execution_count": 4,
   "id": "a897a0f6-3de4-4326-9dcc-8a3694a3fc3d",
   "metadata": {},
   "outputs": [
    {
     "name": "stdout",
     "output_type": "stream",
     "text": [
      "Valor de gen_2[0]: 1\n",
      "Lista gen_2 antes do switch: [1, 4, 3, 2, 0]\n",
      "Variavel que trocará de lugar com a atual do indice 1: 4\n",
      "Indice que trocará de valor: 0\n",
      "Variavel que irá para o atual indice 1: 1\n",
      "\n",
      "Valor de gen_2[0]: 4\n",
      "Lista gen_2 antes do switch: [4, 1, 3, 2, 0]\n",
      "Variavel que trocará de lugar com a atual do indice 4: 0\n",
      "Indice que trocará de valor: 0\n",
      "Variavel que irá para o atual indice 4: 4\n",
      "\n",
      "Valor de gen_2[0]: 3\n",
      "Lista gen_2 antes do switch: [0, 1, 3, 2, 4]\n",
      "Variavel que trocará de lugar com a atual do indice 3: 2\n",
      "Indice que trocará de valor: 2\n",
      "Variavel que irá para o atual indice 3: 3\n",
      "\n",
      "Valor de gen_2[0]: 2\n",
      "Lista gen_2 antes do switch: [0, 1, 2, 3, 4]\n",
      "Variavel que trocará de lugar com a atual do indice 2: 2\n",
      "Indice que trocará de valor: 2\n",
      "Variavel que irá para o atual indice 2: 2\n",
      "\n",
      "Valor de gen_2[0]: 0\n",
      "Lista gen_2 antes do switch: [0, 1, 2, 3, 4]\n",
      "Variavel que trocará de lugar com a atual do indice 0: 0\n",
      "Indice que trocará de valor: 0\n",
      "Variavel que irá para o atual indice 0: 0\n",
      "\n",
      "[0, 1, 2, 3, 4]\n",
      "10\n"
     ]
    }
   ],
   "source": [
    "import math\n",
    "\n",
    "class A():\n",
    "    count = 0\n",
    "    \n",
    "gen_1 = [0, 1, 2, 3, 4]\n",
    "gen_2 = [1, 4, 3, 2, 0]\n",
    "gen_tmp = gen_2.copy()\n",
    "A.count = 0\n",
    "def gen_dist(start, end, gen_1, gen_2):\n",
    "    if len(gen_2) != 1:\n",
    "        meio = math.floor((start+end)/2)\n",
    "        l_side = gen_2[start:meio]\n",
    "        r_side = gen_2[meio:end]\n",
    "        \n",
    "        gen_dist(0, len(l_side), gen_1, l_side)\n",
    "        gen_dist(0, len(r_side), gen_1, r_side)\n",
    "        \n",
    "    else:\n",
    "        for i in range(len(gen_1)):\n",
    "            if gen_2[0] == gen_1[i]:\n",
    "                \n",
    "                print(\"Valor de gen_2[0]: \" + str(gen_2[0]))\n",
    "                print(\"Lista gen_2 antes do switch: \" + str(gen_tmp))\n",
    "                \n",
    "                old_var = gen_tmp[i]\n",
    "                print(\"Variavel que trocará de lugar com a atual do indice \" + str(i) + \": \" + str(old_var))\n",
    "                \n",
    "                index = gen_tmp.index(gen_2[0])\n",
    "                print(\"Indice que trocará de valor: \" + str(index))\n",
    "                \n",
    "                new_var = gen_tmp[index]\n",
    "                print(\"Variavel que irá para o atual indice \" + str(i) + \": \" + str(new_var))\n",
    "                \n",
    "                gen_tmp[index] = old_var\n",
    "                gen_tmp[i] = gen_2[0]\n",
    "                \n",
    "                if index != i:\n",
    "                    A.count = A.count + (index + i)\n",
    "                print()\n",
    "        \n",
    "gen_dist(0, 5, gen_1, gen_2)\n",
    "print(gen_tmp)\n",
    "print(A.count)"
   ]
  },
  {
   "cell_type": "code",
   "execution_count": 40,
   "id": "6c9df4bb-7c2e-4025-9636-f57f52dfd7bf",
   "metadata": {},
   "outputs": [],
   "source": [
    "f = open(\"/home/leo/Downloads/Distância Genômica - Instâncias Pequenas/instanciasPequenas/02.in\", \"r\")\n",
    "a = f.read()\n",
    "l1 = a.split(\"\\n\")[1].split(\" \")\n",
    "l2 = a.split(\"\\n\")[2].split(\" \")\n",
    "# l_full = a.split(\" \")[1:]\n",
    "# index = None\n",
    "# for i in range(len(l_full)):\n",
    "#     if l_full[i] == '\\n0':\n",
    "#         index = i\n",
    "\n",
    "# print(l_full[:index+1])\n",
    "# len(l_full[:index])"
   ]
  },
  {
   "cell_type": "code",
   "execution_count": 41,
   "id": "6212bfa7-0849-462b-9a26-092b5b4257d4",
   "metadata": {},
   "outputs": [],
   "source": [
    "l1 = a.split(\"\\n\")[1].split(\" \")[0:10000]\n",
    "l2 = a.split(\"\\n\")[1].split(\" \")[9999:-1]"
   ]
  },
  {
   "cell_type": "markdown",
   "id": "559a8d4e-8f48-418b-9799-f5c94ae5e765",
   "metadata": {},
   "source": [
    "### Approach 1.1"
   ]
  },
  {
   "cell_type": "code",
   "execution_count": 15,
   "id": "906d4843-a9fa-4617-b0f6-c5b7237ccd81",
   "metadata": {},
   "outputs": [
    {
     "name": "stdout",
     "output_type": "stream",
     "text": [
      "16876\n"
     ]
    }
   ],
   "source": [
    "import math\n",
    "\n",
    "class A():\n",
    "    count = 0\n",
    "\n",
    "N = int(input())\n",
    "mapa= {}\n",
    "\n",
    "gen_1 = list(map(int, input().split()))\n",
    "\n",
    "if len(gen_1) > N:\n",
    "    gen_1 = gen_1[len(gen_1) - N:]\n",
    "    for i in range(len(gen_1)):\n",
    "        mapa[gen_1[i]] = i\n",
    "        \n",
    "    gen_2 = gen_1\n",
    "else:\n",
    "    for i in range(N):\n",
    "        mapa[gen_1[i]] = i\n",
    "    gen_2 = list(map(lambda e: mapa[int(e)], input().split()))\n",
    "\n",
    "gen_tmp = gen_2.copy()\n",
    "\n",
    "A.count = 0\n",
    "def gen_dist(start, end, gen_1, gen_2):\n",
    "    if len(gen_2) != 1:\n",
    "        meio = math.floor((start+end)/2)\n",
    "        l_side = gen_2[start:meio]\n",
    "        r_side = gen_2[meio:end]\n",
    "        \n",
    "        gen_dist(0, len(l_side), gen_1, l_side)\n",
    "        gen_dist(0, len(r_side), gen_1, r_side)\n",
    "        \n",
    "    else:\n",
    "        for i in range(len(gen_1)):\n",
    "            if gen_2[0] == gen_1[i]:\n",
    "                \n",
    "                old_var = gen_tmp[i]\n",
    "                index = gen_tmp.index(gen_2[0])\n",
    "                \n",
    "                new_var = gen_tmp[index]\n",
    "                \n",
    "                gen_tmp[index] = old_var\n",
    "                gen_tmp[i] = gen_2[0]\n",
    "                \n",
    "                if index != i:\n",
    "                    A.count = A.count + (index + i)\n",
    "        \n",
    "gen_dist(0, 5, gen_1, gen_2)\n",
    "print(A.count)"
   ]
  },
  {
   "cell_type": "code",
   "execution_count": 6,
   "id": "7a38d857-6136-47d5-9b54-747a041584aa",
   "metadata": {},
   "outputs": [],
   "source": [
    "[0, 1, 2, 3, 4]\n",
    "\n",
    "[1] -> 0\n",
    "[4] -> 1\n",
    "[3] -> 2\n",
    "[2] -> 3\n",
    "[0] -> 4\n"
   ]
  },
  {
   "cell_type": "markdown",
   "id": "f6510be6-641c-46db-b8ec-81d3f5ac0080",
   "metadata": {},
   "source": [
    "### Approach 2"
   ]
  },
  {
   "cell_type": "code",
   "execution_count": 15,
   "id": "a2848e72-7315-44d4-8952-c454c62ae625",
   "metadata": {},
   "outputs": [
    {
     "name": "stdout",
     "output_type": "stream",
     "text": [
      "7\n"
     ]
    }
   ],
   "source": [
    "# N = int(input())\n",
    "# mapa= {}\n",
    "\n",
    "# gen_1 = list(map(int, input().split()))\n",
    "\n",
    "# if len(gen_1) > N:\n",
    "#     gen_1 = gen_1[len(gen_1) - N:]\n",
    "#     for i in range(len(gen_1)):\n",
    "#         mapa[gen_1[i]] = i\n",
    "        \n",
    "#     gen_2 = gen_1\n",
    "# else:\n",
    "#     for i in range(N):\n",
    "#         mapa[gen_1[i]] = i\n",
    "#     gen_2 = list(map(lambda e: mapa[int(e)], input().split()))\n",
    "\n",
    "\n",
    "\n",
    "class A():\n",
    "    count = 0\n",
    "\n",
    "# a = l1\n",
    "# b = l2\n",
    "a = [0, 1, 2, 3, 4]\n",
    "b = [4, 3, 2, 1, 0]\n",
    "# b = [0, 1, 2, 3, 4]\n",
    "# b = [1, 4, 3, 2, 0]\n",
    "index_b = []\n",
    "mapa_a = {}\n",
    "mapa_b = {}\n",
    "\n",
    "for i  in range(len(a)):\n",
    "    mapa_a[i] = a[i]\n",
    "    mapa_b[i] = b[i]\n",
    "\n",
    "mapa_a_inverse = {}\n",
    "mapa_b_inverse = {}\n",
    "\n",
    "for i, j in zip(mapa_a.values(), mapa_a.keys()):\n",
    "    mapa_a_inverse[i] = j\n",
    "\n",
    "for i, j in zip(mapa_b.values(), mapa_b.keys()):\n",
    "    mapa_b_inverse[i] = j\n",
    "\n",
    "for i in mapa_b_inverse.keys():\n",
    "    index_b.append(mapa_a_inverse[i])\n",
    "\n",
    "index_a = mapa_a.keys()\n",
    "\n",
    "def merge_sort(arr):\n",
    "    \n",
    "    if len(arr) > 1:\n",
    "        \n",
    "        mid = len(arr) // 2 \n",
    "       \n",
    "        left_half = arr[:mid] \n",
    "        right_half = arr[mid:]\n",
    "        \n",
    "        merge_sort(left_half) \n",
    "        merge_sort(right_half) \n",
    "\n",
    "        i, j, k = 0, 0, 0\n",
    "        \n",
    "        \n",
    "        while i < len(left_half) and j < len(right_half):\n",
    "            print(\"Left: \" + str(left_half))\n",
    "            print(\"Right: \" + str(right_half))\n",
    "            print(arr)\n",
    "            print(i, j, k)\n",
    "            if left_half[i] < right_half[j]:\n",
    "                arr[k] = left_half[i]\n",
    "                i += 1\n",
    "                \n",
    "            else:\n",
    "                print(\"Antes: \" + str(arr))\n",
    "                arr[k] = right_half[j]\n",
    "                print(\"Depois: \" + str(arr))\n",
    "                j += 1\n",
    "                A.count = A.count + 1\n",
    "                \n",
    "            \n",
    "            k += 1\n",
    "            \n",
    "        print(\"Nos whiles seguintes\")  \n",
    "        print(arr)\n",
    "        print(i, j, k)\n",
    "        while i < len(left_half):\n",
    "            arr[k] = left_half[i]\n",
    "            i += 1\n",
    "            k += 1\n",
    "            A.count = A.count + 1\n",
    "            \n",
    "        while j < len(right_half):\n",
    "            arr[k] = right_half[j]\n",
    "            j += 1\n",
    "            k += 1\n",
    "            A.count = A.count + 1\n",
    "        print(\"Após:\")\n",
    "        print(arr)\n",
    "        print()\n",
    "merge_sort(index_b)\n",
    "print(A.count)"
   ]
  },
  {
   "cell_type": "markdown",
   "id": "adec6c31-27e7-4430-8213-02377fceddf6",
   "metadata": {},
   "source": [
    "### Approach 3"
   ]
  },
  {
   "cell_type": "code",
   "execution_count": 21,
   "id": "e6a0e118-cc77-40d2-bfd6-d2c312fcaad3",
   "metadata": {},
   "outputs": [
    {
     "name": "stdout",
     "output_type": "stream",
     "text": [
      "[4] [3]\n",
      "Antes: []\n",
      "Depois: [3]\n",
      "Final: [3, 4]\n",
      "1\n",
      "\n",
      "[1] [0]\n",
      "Antes: []\n",
      "Depois: [0]\n",
      "Final: [0, 1]\n",
      "1\n",
      "\n",
      "[2] [0, 1]\n",
      "Antes: []\n",
      "Depois: [0]\n",
      "[2] [0, 1]\n",
      "Antes: [0]\n",
      "Depois: [0, 1]\n",
      "Final: [0, 1, 2]\n",
      "2\n",
      "\n",
      "[3, 4] [0, 1, 2]\n",
      "Antes: []\n",
      "Depois: [0]\n",
      "[3, 4] [0, 1, 2]\n",
      "Antes: [0]\n",
      "Depois: [0, 1]\n",
      "[3, 4] [0, 1, 2]\n",
      "Antes: [0, 1]\n",
      "Depois: [0, 1, 2]\n",
      "Final: [0, 1, 2, 3, 4]\n",
      "3\n",
      "\n"
     ]
    },
    {
     "data": {
      "text/plain": [
       "[0, 1, 2, 3, 4]"
      ]
     },
     "execution_count": 21,
     "metadata": {},
     "output_type": "execute_result"
    }
   ],
   "source": [
    "# N = int(input())\n",
    "# mapa= {}\n",
    "\n",
    "# gen_1 = list(map(int, input().split()))\n",
    "\n",
    "# if len(gen_1) > N:\n",
    "#     gen_1 = gen_1[len(gen_1) - N:]\n",
    "#     for i in range(len(gen_1)):\n",
    "#         mapa[gen_1[i]] = i\n",
    "        \n",
    "#     gen_2 = gen_1\n",
    "# else:\n",
    "#     for i in range(N):\n",
    "#         mapa[gen_1[i]] = i\n",
    "#     gen_2 = list(map(lambda e: mapa[int(e)], input().split()))\n",
    "\n",
    "\n",
    "\n",
    "class A():\n",
    "    count = 0\n",
    "\n",
    "# a = l1\n",
    "# b = l2\n",
    "a = [0, 1, 2, 3, 4]\n",
    "b = [4, 3, 2, 1, 0]\n",
    "# b = [0, 1, 2, 3, 4]\n",
    "# b = [1, 4, 3, 2, 0]\n",
    "index_b = []\n",
    "mapa_a = {}\n",
    "mapa_b = {}\n",
    "\n",
    "for i  in range(len(a)):\n",
    "    mapa_a[i] = a[i]\n",
    "    mapa_b[i] = b[i]\n",
    "\n",
    "mapa_a_inverse = {}\n",
    "mapa_b_inverse = {}\n",
    "\n",
    "for i, j in zip(mapa_a.values(), mapa_a.keys()):\n",
    "    mapa_a_inverse[i] = j\n",
    "\n",
    "for i, j in zip(mapa_b.values(), mapa_b.keys()):\n",
    "    mapa_b_inverse[i] = j\n",
    "\n",
    "for i in mapa_b_inverse.keys():\n",
    "    index_b.append(mapa_a_inverse[i])\n",
    "\n",
    "index_a = mapa_a.keys()\n",
    "\n",
    "def merge_sort(arr):\n",
    "    if len(arr) <= 1:\n",
    "        return arr\n",
    "    \n",
    "    # Split the array into two halves\n",
    "    mid = len(arr) // 2\n",
    "    left_half = arr[:mid]\n",
    "    right_half = arr[mid:]\n",
    "    \n",
    "    # Recursive calls to merge_sort for each half\n",
    "    left_half = merge_sort(left_half)\n",
    "    right_half = merge_sort(right_half)\n",
    "    \n",
    "    # Merge the sorted halves\n",
    "    return merge(left_half, right_half)\n",
    "\n",
    "def merge(left, right):\n",
    "    merged = []\n",
    "    left_index, right_index = 0, 0\n",
    "    \n",
    "    # Merge the two halves in sorted order\n",
    "    while left_index < len(left) and right_index < len(right):\n",
    "        print(left, right)\n",
    "        print(\"Antes:\", merged)\n",
    "        if left[left_index] < right[right_index]:\n",
    "            merged.append(left[left_index])\n",
    "            left_index += 1\n",
    "            A.count = A.count + 1\n",
    "        else:\n",
    "            merged.append(right[right_index])\n",
    "            right_index += 1\n",
    "            A.count = A.count + 1\n",
    "        print(\"Depois:\", merged)\n",
    "        \n",
    "    # Append the remaining elements, if any, from both halves\n",
    "    \n",
    "    merged.extend(left[left_index:])\n",
    "    merged.extend(right[right_index:])\n",
    "    print(\"Final:\", merged)\n",
    "    print(A.count)\n",
    "    A.count = 0\n",
    "    print()\n",
    "    \n",
    "    return merged\n",
    "\n",
    "merge_sort(index_b)\n"
   ]
  },
  {
   "cell_type": "code",
   "execution_count": 3,
   "id": "86bddb17-d25c-4c03-9dc7-6416cb5f9bc5",
   "metadata": {},
   "outputs": [],
   "source": [
    "def get_01():\n",
    "    f = open(\"/home/leo/Downloads/Distância Genômica - Instâncias Pequenas/instanciasPequenas/01.in\", \"r\")\n",
    "    a = f.read()\n",
    "    l_full = a.split(\" \")[1:]\n",
    "\n",
    "    index = None\n",
    "    for i in range(len(l_full)):\n",
    "        if l_full[i] == '\\n0':\n",
    "            index = i\n",
    "    \n",
    "    l1 = [0]\n",
    "    l1.extend(l_full[:index])\n",
    "     \n",
    "    l2 = [0]\n",
    "    l2.extend(l_full[index+1:-1])\n",
    "    \n",
    "    return l1, l2\n",
    "\n",
    "def get_02():\n",
    "    f = open(\"/home/leo/Downloads/Distância Genômica - Instâncias Pequenas/instanciasPequenas/02.in\", \"r\")\n",
    "    a = f.read()\n",
    "    l_full = a.split(\" \")[1:]\n",
    "    half = int(len(l_full)/2) - 1\n",
    "    \n",
    "    l1 = ['0']\n",
    "    l1.extend(l_full[:half])\n",
    "    \n",
    "    l2 = l_full[half:-1]\n",
    "    \n",
    "    return l1, l2\n",
    "\n",
    "def get_03():\n",
    "    f = open(\"/home/leo/Downloads/Distância Genômica - Instâncias Pequenas/instanciasPequenas/03.in\", \"r\")\n",
    "    a = f.read()\n",
    "    l_full = a.split(\" \")[1:]\n",
    "        \n",
    "    size = 10000\n",
    "    l1 = ['0']\n",
    "    l1.extend(l_full[:size-1])\n",
    "    l2 = ['1824']\n",
    "    l2.extend(l_full[size:-1])\n",
    "    \n",
    "    return l1, l2\n",
    "\n",
    "def get_04():\n",
    "    f = open(\"/home/leo/Downloads/Distância Genômica - Instâncias Pequenas/instanciasPequenas/04.in\", \"r\")\n",
    "    a = f.read()\n",
    "    l_full = a.split(\"\\n\")\n",
    "    l1 = l_full[1].split(\" \")[:-1]\n",
    "    l2 = l_full[2].split(\" \")[:-1]\n",
    "\n",
    "    return l1, l2\n",
    "\n",
    "def get_05():\n",
    "    f = open(\"/home/leo/Downloads/Distância Genômica - Instâncias Pequenas/instanciasPequenas/05.in\", \"r\")\n",
    "    a = f.read()\n",
    "    l_full = a.split(\"\\n\")\n",
    "    \n",
    "    l1 = l_full[1].split(\" \")[:-1]\n",
    "    l2 = l_full[2].split(\" \")[:-1]\n",
    "\n",
    "    return l1, l2\n",
    "\n",
    "def get_06():\n",
    "    f = open(\"/home/leo/Downloads/Distância Genômica - Instâncias Pequenas/instanciasPequenas/06.in\", \"r\")\n",
    "    a = f.read()\n",
    "    l_full = a.split(\"\\n\")\n",
    "    \n",
    "    l1 = l_full[1].split(\" \")[:-1]\n",
    "    l2 = l_full[2].split(\" \")[:-1]\n",
    "\n",
    "\n",
    "    return l1, l2\n",
    "\n",
    "def get_07():\n",
    "    f = open(\"/home/leo/Downloads/Distância Genômica - Instâncias Pequenas/instanciasPequenas/07.in\", \"r\")\n",
    "    a = f.read()\n",
    "    l_full = a.split(\"\\n\")\n",
    "    \n",
    "    l1 = l_full[1].split(\" \")[:-1]\n",
    "    l2 = l_full[2].split(\" \")[:-1]\n",
    "\n",
    "\n",
    "    return l1, l2\n",
    "\n",
    "def get_08():\n",
    "    f = open(\"/home/leo/Downloads/Distância Genômica - Instâncias Pequenas/instanciasPequenas/08.in\", \"r\")\n",
    "    a = f.read()\n",
    "    l_full = a.split(\"\\n\")\n",
    "    \n",
    "    l1 = l_full[1].split(\" \")[:-1]\n",
    "    l2 = l_full[2].split(\" \")[:-1]\n",
    "\n",
    "    return l1, l2\n",
    "\n",
    "def get_09():\n",
    "    f = open(\"/home/leo/Downloads/Distância Genômica - Instâncias Pequenas/instanciasPequenas/09.in\", \"r\")\n",
    "    a = f.read()\n",
    "    l_full = a.split(\"\\n\")\n",
    "    \n",
    "    l1 = l_full[1].split(\" \")[:-1]\n",
    "    l2 = l_full[2].split(\" \")[:-1]\n",
    "\n",
    "    return l1, l2\n",
    "\n",
    "def get_10():\n",
    "    f = open(\"/home/leo/Downloads/Distância Genômica - Instâncias Pequenas/instanciasPequenas/10.in\", \"r\")\n",
    "    a = f.read()\n",
    "    l_full = a.split(\"\\n\")\n",
    "    \n",
    "    l1 = l_full[1].split(\" \")[:-1]\n",
    "    l2 = l_full[2].split(\" \")[:-1]\n",
    "\n",
    "    return l1, l2"
   ]
  },
  {
   "cell_type": "code",
   "execution_count": 4,
   "id": "4e4e0573-3f26-470e-bc14-13dabfc12338",
   "metadata": {},
   "outputs": [
    {
     "name": "stdout",
     "output_type": "stream",
     "text": [
      "['1824', '410', '4508', '4015', '3661', '2291'] ['9999', '9998', '9997', '9996', '9995', '9994']\n",
      "Aqui\n",
      "Aqui\n"
     ]
    }
   ],
   "source": [
    "l1, _ = get_05()\n",
    "_, l2 = get_02()\n",
    "print(l1[0:6], l2[0:6])\n",
    "\n",
    "for i in l1:\n",
    "    if i == '1':\n",
    "        print(\"Aqui\")\n",
    "\n",
    "for i in l2:\n",
    "    if i == '1':\n",
    "        print(\"Aqui\")"
   ]
  },
  {
   "cell_type": "markdown",
   "id": "7f3a5812-36cb-4564-a843-59f0ce7ae5a4",
   "metadata": {},
   "source": [
    "### Approach 4"
   ]
  },
  {
   "cell_type": "code",
   "execution_count": 28,
   "id": "f6407856-a73c-41b8-ba16-619abc1d5f9c",
   "metadata": {},
   "outputs": [
    {
     "name": "stdout",
     "output_type": "stream",
     "text": [
      "49979021\n"
     ]
    }
   ],
   "source": [
    "N = int(input())\n",
    "mapa= {}\n",
    "\n",
    "gen_1 = list(map(int, input().split()))\n",
    "\n",
    "if len(gen_1) > N:\n",
    "    gen_1 = gen_1[len(gen_1) - N:]\n",
    "    for i in range(len(gen_1)):\n",
    "        mapa[gen_1[i]] = i\n",
    "        \n",
    "    gen_2 = gen_1\n",
    "else:\n",
    "    for i in range(N):\n",
    "        mapa[gen_1[i]] = i\n",
    "    gen_2 = list(map(lambda e: mapa[int(e)], input().split()))\n",
    "\n",
    "\n",
    "# try:\n",
    "#     N = int(input())\n",
    "# except:\n",
    "#     N = 5\n",
    "# try:\n",
    "#     gen_1 = list(map(int, input().split()))\n",
    "# except:\n",
    "#     gen_1 = [0,1,2,3,4]\n",
    "\n",
    "# try:\n",
    "#     gen_2 = list(map(int, input().split()))\n",
    "# except:\n",
    "#     gen_2 = [0,1,2,3,4]\n",
    "    \n",
    "# if len(gen_1) > N:\n",
    "#     gen_1 = gen_1[len(gen_1) - N:]\n",
    "#     gen_2 = gen_2[len(gen_2) - N:]\n",
    "\n",
    "# if len(gen_1) != len(gen_2):\n",
    "#     gen_2 = gen_1\n",
    "# N = 10000\n",
    "# a = l1\n",
    "# b = l2\n",
    "a = gen_1\n",
    "b = gen_2\n",
    "\n",
    "c = [0]\n",
    "\n",
    "index_b = []\n",
    "mapa_a = {}\n",
    "mapa_b = {}\n",
    "\n",
    "for i  in range(len(a)):\n",
    "    mapa_a[i] = a[i]\n",
    "    mapa_b[i] = b[i]\n",
    "\n",
    "mapa_a_inverse = {}\n",
    "mapa_b_inverse = {}\n",
    "\n",
    "for i, j in zip(mapa_a.values(), mapa_a.keys()):\n",
    "    mapa_a_inverse[i] = j\n",
    "\n",
    "for i, j in zip(mapa_b.values(), mapa_b.keys()):\n",
    "    mapa_b_inverse[i] = j\n",
    "\n",
    "for i in mapa_b_inverse.keys():\n",
    "    index_b.append(mapa_a_inverse[i])\n",
    "\n",
    "index_a = mapa_a.keys()\n",
    "\n",
    "def merge(left, right, c):  \n",
    "    result = []\n",
    "    i = j = 0\n",
    "    \n",
    "    while i < len(left) and j < len(right):\n",
    "        if left[i] <= right[j]:\n",
    "            result.append(left[i])\n",
    "            i += 1\n",
    "            c[0] += len(right) - i\n",
    "        else:\n",
    "            result.append(right[j])\n",
    "            j += 1\n",
    "            c[0] += len(left) - i\n",
    "\n",
    "    result.extend(left[i:])\n",
    "    result.extend(right[j:])\n",
    "    return result\n",
    "\n",
    "    \n",
    "def merge_sort(arr, c):\n",
    "    if len(arr) <= 1:\n",
    "        return arr\n",
    "\n",
    "    mid = len(arr) // 2\n",
    "    left = merge_sort(arr[:mid], c)\n",
    "    right = merge_sort(arr[mid:], c)\n",
    "\n",
    "    return merge(left, right, c)\n",
    "\n",
    "sorted_arr = merge_sort(index_b, c)\n",
    "\n",
    "print(c[0])"
   ]
  },
  {
   "cell_type": "code",
   "execution_count": 29,
   "id": "113b3d77-61a3-4afb-894b-fd9330989720",
   "metadata": {},
   "outputs": [
    {
     "data": {
      "text/plain": [
       "15979"
      ]
     },
     "execution_count": 29,
     "metadata": {},
     "output_type": "execute_result"
    }
   ],
   "source": [
    "49995000 - 49979021"
   ]
  },
  {
   "cell_type": "markdown",
   "id": "1091f39e-fa5f-43d8-8503-1f2345aa05d3",
   "metadata": {},
   "source": [
    "### Final Answer"
   ]
  },
  {
   "cell_type": "code",
   "execution_count": 6,
   "id": "4b0f1309-75dc-4cf7-8bc7-afc6e5200432",
   "metadata": {},
   "outputs": [
    {
     "name": "stdin",
     "output_type": "stream",
     "text": [
      " 5\n",
      " 0 1 2 3 4\n",
      " 4 3 2 1 0\n"
     ]
    },
    {
     "name": "stdout",
     "output_type": "stream",
     "text": [
      "10\n"
     ]
    }
   ],
   "source": [
    "\"Nome: Leonardo Aparecido Lira Diniz\\\n",
    "Ra: 822065\\\n",
    "Curso: PAA\"\n",
    "\n",
    "def merge_sort(arr):\n",
    "    if len(arr) <= 1:\n",
    "        return arr, 0\n",
    "\n",
    "    mid = len(arr) // 2\n",
    "    left, count_left = merge_sort(arr[:mid])\n",
    "    right, count_right = merge_sort(arr[mid:])\n",
    "\n",
    "    ord_arr, count = merge(left, right)\n",
    "    final_count = count + count_left + count_right\n",
    "\n",
    "    return ord_arr, final_count\n",
    "\n",
    "def merge(left, right):\n",
    "    result = []\n",
    "    i = 0\n",
    "    j = 0\n",
    "    count = 0\n",
    "    \n",
    "    while i < len(left) and j < len(right):\n",
    "        if left[i] <= right[j]:\n",
    "            result.append(left[i])\n",
    "            i += 1\n",
    "        else:\n",
    "            result.append(right[j])\n",
    "            j += 1\n",
    "            count += len(left) - i\n",
    "        \n",
    "    result.extend(left[i:])\n",
    "    result.extend(right[j:])\n",
    "    \n",
    "    return result, count\n",
    "\n",
    "_size = int(input())\n",
    "_map = {}\n",
    "\n",
    "gen_1 = list(map(int, input().split()))\n",
    "\n",
    "for i in range(_size):\n",
    "    _map[gen_1[i]] = i\n",
    "\n",
    "if len(gen_1) > _size:\n",
    "    gen_2 = list(map(lambda e: _map[int(e)], gen_1[_size:]))\n",
    "    \n",
    "else:\n",
    "    gen_2 = list(map(lambda e: _map[int(e)], input().split()))\n",
    "\n",
    "result, count = merge_sort(gen_2)\n",
    "\n",
    "print(count)"
   ]
  },
  {
   "cell_type": "code",
   "execution_count": null,
   "id": "9f8ac496-e6dc-4fb7-b80c-5862e9a3bab6",
   "metadata": {},
   "outputs": [],
   "source": []
  },
  {
   "cell_type": "code",
   "execution_count": 4,
   "id": "6738fccf-98ef-4c54-b900-adcda99bd18b",
   "metadata": {},
   "outputs": [
    {
     "name": "stdin",
     "output_type": "stream",
     "text": [
      " 5\n",
      " 0 1 2 3 4\n",
      " 4 3 2 1 0\n"
     ]
    },
    {
     "name": "stdout",
     "output_type": "stream",
     "text": [
      "10\n"
     ]
    }
   ],
   "source": [
    "def contar_inversoes_merge_sort(array):\n",
    "    if len(array) <= 1:\n",
    "        return array, 0\n",
    "\n",
    "    meio = len(array) // 2\n",
    "    parte_esquerda, inversoes_esquerda = contar_inversoes_merge_sort(array[:meio])\n",
    "    parte_direita, inversoes_direita = contar_inversoes_merge_sort(array[meio:])\n",
    "\n",
    "    array_ordenado, inversoes = merge_contar_inversoes(parte_esquerda, parte_direita)\n",
    "\n",
    "    return array_ordenado, inversoes + inversoes_esquerda + inversoes_direita\n",
    "\n",
    "def merge_contar_inversoes(parte_esquerda, parte_direita):\n",
    "    array_ordenado = []\n",
    "    inversoes = 0\n",
    "    i = j = 0\n",
    "\n",
    "    while i < len(parte_esquerda) and j < len(parte_direita):\n",
    "        if parte_esquerda[i] <= parte_direita[j]:\n",
    "            array_ordenado.append(parte_esquerda[i])\n",
    "            i += 1\n",
    "        else:\n",
    "            array_ordenado.append(parte_direita[j])\n",
    "            inversoes += len(parte_esquerda) - i\n",
    "            j += 1\n",
    "\n",
    "    array_ordenado.extend(parte_esquerda[i:])\n",
    "    array_ordenado.extend(parte_direita[j:])\n",
    "\n",
    "    return array_ordenado, inversoes\n",
    "\n",
    "N = int(input())\n",
    "mapa = {}\n",
    "genoma1 = list(map(int, input().split()))\n",
    "\n",
    "for i in range(N):\n",
    "    mapa[genoma1[i]] = i\n",
    "\n",
    "if len(genoma1) > N:\n",
    "    genoma2 = list(map(lambda e: mapa[int(e)], genoma1[N:]))\n",
    "else:\n",
    "    genoma2 = list(map(lambda e: mapa[int(e)], input().split()))\n",
    "\n",
    "_, resultado = contar_inversoes_merge_sort(genoma2)\n",
    "\n",
    "print(resultado)"
   ]
  },
  {
   "cell_type": "code",
   "execution_count": null,
   "id": "f221f44b-8f0f-4d7b-9884-a94df7d0d751",
   "metadata": {},
   "outputs": [],
   "source": [
    "/*Nome: Leonardo Aparecido Lira Diniz\n",
    "Ra: 822065\n",
    "Curso: PAA*/\n",
    "\n",
    "#include <iostream>\n",
    "#include <vector>\n",
    "\n",
    "using namespace std;\n",
    "\n",
    "pair<vector<int>, int> merge_sort(const vector<int>& arr);\n",
    "\n",
    "pair<vector<int>, int> merge(const vector<int>& left, const vector<int>& right);\n",
    "\n",
    "int main() {\n",
    "    int _size;\n",
    "    cin >> _size;\n",
    "\n",
    "    vector<int> gen_1(_size);\n",
    "    vector<int> _map(_size);\n",
    "\n",
    "    for (int i = 0; i < _size; ++i) {\n",
    "        cin >> gen_1[i];\n",
    "        _map[gen_1[i]] = i;\n",
    "    }\n",
    "\n",
    "    vector<int> gen_2;\n",
    "\n",
    "    if (gen_1.size() > _size) {\n",
    "        for (int i = _size; i < gen_1.size(); ++i) {\n",
    "            gen_2.push_back(_map[gen_1[i]]);\n",
    "        }\n",
    "    } else {\n",
    "        gen_2.resize(_size);\n",
    "        for (int i = 0; i < _size; ++i) {\n",
    "            cin >> gen_2[i];\n",
    "            gen_2[i] = _map[gen_2[i]];\n",
    "        }\n",
    "    }\n",
    "\n",
    "    auto result = merge_sort(gen_2);\n",
    "\n",
    "    cout << result.second << endl;\n",
    "\n",
    "    return 0;\n",
    "}\n",
    "\n",
    "pair<vector<int>, int> merge_sort(const vector<int>& arr) {\n",
    "    if (arr.size() <= 1) {\n",
    "        return {arr, 0};\n",
    "    }\n",
    "\n",
    "    int mid = arr.size() / 2;\n",
    "    auto left_result = merge_sort(vector<int>(arr.begin(), arr.begin() + mid));\n",
    "    auto right_result = merge_sort(vector<int>(arr.begin() + mid, arr.end()));\n",
    "\n",
    "    auto merged_result = merge(left_result.first, right_result.first);\n",
    "    int final_count = merged_result.second + left_result.second + right_result.second;\n",
    "\n",
    "    return {merged_result.first, final_count};\n",
    "}\n",
    "\n",
    "pair<vector<int>, int> merge(const vector<int>& left, const vector<int>& right) {\n",
    "    vector<int> result;\n",
    "    int i = 0, j = 0, count = 0;\n",
    "\n",
    "    while (i < left.size() && j < right.size()) {\n",
    "        if (left[i] <= right[j]) {\n",
    "            result.push_back(left[i]);\n",
    "            i++;\n",
    "        } else {\n",
    "            result.push_back(right[j]);\n",
    "            j++;\n",
    "            count += left.size() - i;\n",
    "        }\n",
    "    }\n",
    "\n",
    "    result.insert(result.end(), left.begin() + i, left.end());\n",
    "    result.insert(result.end(), right.begin() + j, right.end());\n",
    "\n",
    "    return {result, count};\n",
    "}\n"
   ]
  },
  {
   "cell_type": "markdown",
   "id": "d6333172-f87e-4217-996d-00c8a4257cf0",
   "metadata": {},
   "source": [
    "### Prototype"
   ]
  },
  {
   "cell_type": "code",
   "execution_count": 69,
   "id": "daffc14a-6dc4-4bbc-9c75-bf60aa040978",
   "metadata": {},
   "outputs": [
    {
     "name": "stdout",
     "output_type": "stream",
     "text": [
      "6\n"
     ]
    }
   ],
   "source": [
    "N = 10\n",
    "v1 = [1, 2, 3, 4, 5, 6, 7, 8, 9, 10] \n",
    "v2 = [14, 76, 68, 9, 11, 81, 95, 25]\n",
    "v3 = [2, 1, 1, 2, 2, 3, 3, 3, 1]\n",
    "\n",
    "\n",
    "v1.sort(reverse = True)\n",
    "v2.sort(reverse = True)\n",
    "v3.sort(reverse = True)\n",
    "\n",
    "v = v3\n",
    "window = 3\n",
    "discont = 0\n",
    "\n",
    "for i in range(0, len(v), 3):\n",
    "    if len(v[i:i+3]) != 3:\n",
    "        discont += 0\n",
    "    else:\n",
    "        discont += v[i:i+3][-1]\n",
    "\n",
    "print(discont)"
   ]
  },
  {
   "cell_type": "code",
   "execution_count": 67,
   "id": "0c1708c1-7bc3-4c90-82ab-b48253bc8f44",
   "metadata": {},
   "outputs": [
    {
     "ename": "KeyboardInterrupt",
     "evalue": "",
     "output_type": "error",
     "traceback": [
      "\u001b[0;31m---------------------------------------------------------------------------\u001b[0m",
      "\u001b[0;31mKeyboardInterrupt\u001b[0m                         Traceback (most recent call last)",
      "\u001b[0;32m/usr/local/lib/python3.6/dist-packages/ipykernel/kernelbase.py\u001b[0m in \u001b[0;36m_input_request\u001b[0;34m(self, prompt, ident, parent, password)\u001b[0m\n\u001b[1;32m    877\u001b[0m             \u001b[0;32mtry\u001b[0m\u001b[0;34m:\u001b[0m\u001b[0;34m\u001b[0m\u001b[0;34m\u001b[0m\u001b[0m\n\u001b[0;32m--> 878\u001b[0;31m                 \u001b[0mident\u001b[0m\u001b[0;34m,\u001b[0m \u001b[0mreply\u001b[0m \u001b[0;34m=\u001b[0m \u001b[0mself\u001b[0m\u001b[0;34m.\u001b[0m\u001b[0msession\u001b[0m\u001b[0;34m.\u001b[0m\u001b[0mrecv\u001b[0m\u001b[0;34m(\u001b[0m\u001b[0mself\u001b[0m\u001b[0;34m.\u001b[0m\u001b[0mstdin_socket\u001b[0m\u001b[0;34m,\u001b[0m \u001b[0;36m0\u001b[0m\u001b[0;34m)\u001b[0m\u001b[0;34m\u001b[0m\u001b[0;34m\u001b[0m\u001b[0m\n\u001b[0m\u001b[1;32m    879\u001b[0m             \u001b[0;32mexcept\u001b[0m \u001b[0mException\u001b[0m\u001b[0;34m:\u001b[0m\u001b[0;34m\u001b[0m\u001b[0;34m\u001b[0m\u001b[0m\n",
      "\u001b[0;32m/usr/local/lib/python3.6/dist-packages/jupyter_client/session.py\u001b[0m in \u001b[0;36mrecv\u001b[0;34m(self, socket, mode, content, copy)\u001b[0m\n\u001b[1;32m    808\u001b[0m         \u001b[0;32mtry\u001b[0m\u001b[0;34m:\u001b[0m\u001b[0;34m\u001b[0m\u001b[0;34m\u001b[0m\u001b[0m\n\u001b[0;32m--> 809\u001b[0;31m             \u001b[0mmsg_list\u001b[0m \u001b[0;34m=\u001b[0m \u001b[0msocket\u001b[0m\u001b[0;34m.\u001b[0m\u001b[0mrecv_multipart\u001b[0m\u001b[0;34m(\u001b[0m\u001b[0mmode\u001b[0m\u001b[0;34m,\u001b[0m \u001b[0mcopy\u001b[0m\u001b[0;34m=\u001b[0m\u001b[0mcopy\u001b[0m\u001b[0;34m)\u001b[0m\u001b[0;34m\u001b[0m\u001b[0;34m\u001b[0m\u001b[0m\n\u001b[0m\u001b[1;32m    810\u001b[0m         \u001b[0;32mexcept\u001b[0m \u001b[0mzmq\u001b[0m\u001b[0;34m.\u001b[0m\u001b[0mZMQError\u001b[0m \u001b[0;32mas\u001b[0m \u001b[0me\u001b[0m\u001b[0;34m:\u001b[0m\u001b[0;34m\u001b[0m\u001b[0;34m\u001b[0m\u001b[0m\n",
      "\u001b[0;32m/usr/local/lib/python3.6/dist-packages/zmq/sugar/socket.py\u001b[0m in \u001b[0;36mrecv_multipart\u001b[0;34m(self, flags, copy, track)\u001b[0m\n\u001b[1;32m    469\u001b[0m         \"\"\"\n\u001b[0;32m--> 470\u001b[0;31m         \u001b[0mparts\u001b[0m \u001b[0;34m=\u001b[0m \u001b[0;34m[\u001b[0m\u001b[0mself\u001b[0m\u001b[0;34m.\u001b[0m\u001b[0mrecv\u001b[0m\u001b[0;34m(\u001b[0m\u001b[0mflags\u001b[0m\u001b[0;34m,\u001b[0m \u001b[0mcopy\u001b[0m\u001b[0;34m=\u001b[0m\u001b[0mcopy\u001b[0m\u001b[0;34m,\u001b[0m \u001b[0mtrack\u001b[0m\u001b[0;34m=\u001b[0m\u001b[0mtrack\u001b[0m\u001b[0;34m)\u001b[0m\u001b[0;34m]\u001b[0m\u001b[0;34m\u001b[0m\u001b[0;34m\u001b[0m\u001b[0m\n\u001b[0m\u001b[1;32m    471\u001b[0m         \u001b[0;31m# have first part already, only loop while more to receive\u001b[0m\u001b[0;34m\u001b[0m\u001b[0;34m\u001b[0m\u001b[0;34m\u001b[0m\u001b[0m\n",
      "\u001b[0;32mzmq/backend/cython/socket.pyx\u001b[0m in \u001b[0;36mzmq.backend.cython.socket.Socket.recv\u001b[0;34m()\u001b[0m\n",
      "\u001b[0;32mzmq/backend/cython/socket.pyx\u001b[0m in \u001b[0;36mzmq.backend.cython.socket.Socket.recv\u001b[0;34m()\u001b[0m\n",
      "\u001b[0;32mzmq/backend/cython/socket.pyx\u001b[0m in \u001b[0;36mzmq.backend.cython.socket._recv_copy\u001b[0;34m()\u001b[0m\n",
      "\u001b[0;32m/usr/local/lib/python3.6/dist-packages/zmq/backend/cython/checkrc.pxd\u001b[0m in \u001b[0;36mzmq.backend.cython.checkrc._check_rc\u001b[0;34m()\u001b[0m\n",
      "\u001b[0;31mKeyboardInterrupt\u001b[0m: ",
      "\nDuring handling of the above exception, another exception occurred:\n",
      "\u001b[0;31mKeyboardInterrupt\u001b[0m                         Traceback (most recent call last)",
      "\u001b[0;32m<ipython-input-67-ac15b7f8888d>\u001b[0m in \u001b[0;36m<module>\u001b[0;34m\u001b[0m\n\u001b[0;32m----> 1\u001b[0;31m \u001b[0mN\u001b[0m \u001b[0;34m=\u001b[0m \u001b[0mint\u001b[0m\u001b[0;34m(\u001b[0m\u001b[0minput\u001b[0m\u001b[0;34m(\u001b[0m\u001b[0;34m)\u001b[0m\u001b[0;34m)\u001b[0m\u001b[0;34m\u001b[0m\u001b[0;34m\u001b[0m\u001b[0m\n\u001b[0m\u001b[1;32m      2\u001b[0m \u001b[0mv\u001b[0m \u001b[0;34m=\u001b[0m \u001b[0mlist\u001b[0m\u001b[0;34m(\u001b[0m\u001b[0mmap\u001b[0m\u001b[0;34m(\u001b[0m\u001b[0mint\u001b[0m\u001b[0;34m,\u001b[0m \u001b[0minput\u001b[0m\u001b[0;34m(\u001b[0m\u001b[0;34m)\u001b[0m\u001b[0;34m.\u001b[0m\u001b[0msplit\u001b[0m\u001b[0;34m(\u001b[0m\u001b[0;34m)\u001b[0m\u001b[0;34m)\u001b[0m\u001b[0;34m)\u001b[0m\u001b[0;34m\u001b[0m\u001b[0;34m\u001b[0m\u001b[0m\n\u001b[1;32m      3\u001b[0m \u001b[0;34m\u001b[0m\u001b[0m\n\u001b[1;32m      4\u001b[0m \u001b[0mv\u001b[0m\u001b[0;34m.\u001b[0m\u001b[0msort\u001b[0m\u001b[0;34m(\u001b[0m\u001b[0mreverse\u001b[0m \u001b[0;34m=\u001b[0m \u001b[0;32mTrue\u001b[0m\u001b[0;34m)\u001b[0m\u001b[0;34m\u001b[0m\u001b[0;34m\u001b[0m\u001b[0m\n\u001b[1;32m      5\u001b[0m \u001b[0;34m\u001b[0m\u001b[0m\n",
      "\u001b[0;32m/usr/local/lib/python3.6/dist-packages/ipykernel/kernelbase.py\u001b[0m in \u001b[0;36mraw_input\u001b[0;34m(self, prompt)\u001b[0m\n\u001b[1;32m    851\u001b[0m             \u001b[0mself\u001b[0m\u001b[0;34m.\u001b[0m\u001b[0m_parent_ident\u001b[0m\u001b[0;34m,\u001b[0m\u001b[0;34m\u001b[0m\u001b[0;34m\u001b[0m\u001b[0m\n\u001b[1;32m    852\u001b[0m             \u001b[0mself\u001b[0m\u001b[0;34m.\u001b[0m\u001b[0m_parent_header\u001b[0m\u001b[0;34m,\u001b[0m\u001b[0;34m\u001b[0m\u001b[0;34m\u001b[0m\u001b[0m\n\u001b[0;32m--> 853\u001b[0;31m             \u001b[0mpassword\u001b[0m\u001b[0;34m=\u001b[0m\u001b[0;32mFalse\u001b[0m\u001b[0;34m,\u001b[0m\u001b[0;34m\u001b[0m\u001b[0;34m\u001b[0m\u001b[0m\n\u001b[0m\u001b[1;32m    854\u001b[0m         )\n\u001b[1;32m    855\u001b[0m \u001b[0;34m\u001b[0m\u001b[0m\n",
      "\u001b[0;32m/usr/local/lib/python3.6/dist-packages/ipykernel/kernelbase.py\u001b[0m in \u001b[0;36m_input_request\u001b[0;34m(self, prompt, ident, parent, password)\u001b[0m\n\u001b[1;32m    881\u001b[0m             \u001b[0;32mexcept\u001b[0m \u001b[0mKeyboardInterrupt\u001b[0m\u001b[0;34m:\u001b[0m\u001b[0;34m\u001b[0m\u001b[0;34m\u001b[0m\u001b[0m\n\u001b[1;32m    882\u001b[0m                 \u001b[0;31m# re-raise KeyboardInterrupt, to truncate traceback\u001b[0m\u001b[0;34m\u001b[0m\u001b[0;34m\u001b[0m\u001b[0;34m\u001b[0m\u001b[0m\n\u001b[0;32m--> 883\u001b[0;31m                 \u001b[0;32mraise\u001b[0m \u001b[0mKeyboardInterrupt\u001b[0m\u001b[0;34m\u001b[0m\u001b[0;34m\u001b[0m\u001b[0m\n\u001b[0m\u001b[1;32m    884\u001b[0m             \u001b[0;32melse\u001b[0m\u001b[0;34m:\u001b[0m\u001b[0;34m\u001b[0m\u001b[0;34m\u001b[0m\u001b[0m\n\u001b[1;32m    885\u001b[0m                 \u001b[0;32mbreak\u001b[0m\u001b[0;34m\u001b[0m\u001b[0;34m\u001b[0m\u001b[0m\n",
      "\u001b[0;31mKeyboardInterrupt\u001b[0m: "
     ]
    }
   ],
   "source": [
    "N = int(input())\n",
    "v = list(map(int, input().split()))\n",
    "\n",
    "v.sort(reverse = True)\n",
    "\n",
    "window = 3\n",
    "discont = 0\n",
    "\n",
    "for i in range(0, len(v), 3):\n",
    "    if len(v[i:i+3]) != 3:\n",
    "        discont += 0\n",
    "    else:\n",
    "        discont += v[i:i+3][1:-1]\n",
    "\n",
    "print(discont)"
   ]
  },
  {
   "cell_type": "code",
   "execution_count": 76,
   "id": "9cbca406-a941-4e1e-9212-c85a4719fea7",
   "metadata": {},
   "outputs": [
    {
     "name": "stdout",
     "output_type": "stream",
     "text": [
      "6\n"
     ]
    }
   ],
   "source": [
    "N = 10\n",
    "v1 = [1, 2, 3, 4, 5, 6, 7, 8, 9, 10] \n",
    "v2 = [14, 76, 68, 9, 11, 81, 95, 25]\n",
    "v3 = [2, 1, 1, 2, 2, 3, 3, 3, 1]\n",
    "\n",
    "\n",
    "v1.sort(reverse = True)\n",
    "v2.sort(reverse = True)\n",
    "v3.sort(reverse = True)\n",
    "\n",
    "v = v3\n",
    "\n",
    "window = 3\n",
    "discont = 0\n",
    "\n",
    "for i in range(0, len(v), 3):\n",
    "    if len(v[i:i+3]) != 3:\n",
    "        discont += 0\n",
    "    else:\n",
    "        discont += v[i:i+3][0]\n",
    "\n",
    "print(discont)"
   ]
  },
  {
   "cell_type": "code",
   "execution_count": 65,
   "id": "9fecc6c2-aa6b-42be-9403-a3d78ad85ace",
   "metadata": {},
   "outputs": [
    {
     "name": "stdout",
     "output_type": "stream",
     "text": [
      "[1]\n"
     ]
    }
   ],
   "source": [
    "a = [0,1,2]\n",
    "print(a[1:-1])"
   ]
  },
  {
   "cell_type": "code",
   "execution_count": null,
   "id": "932bd0eb-52a3-4475-9d5e-833202d56e41",
   "metadata": {},
   "outputs": [],
   "source": []
  }
 ],
 "metadata": {
  "kernelspec": {
   "display_name": "Python 3 (ipykernel)",
   "language": "python",
   "name": "python3"
  },
  "language_info": {
   "codemirror_mode": {
    "name": "ipython",
    "version": 3
   },
   "file_extension": ".py",
   "mimetype": "text/x-python",
   "name": "python",
   "nbconvert_exporter": "python",
   "pygments_lexer": "ipython3",
   "version": "3.6.9"
  }
 },
 "nbformat": 4,
 "nbformat_minor": 5
}
