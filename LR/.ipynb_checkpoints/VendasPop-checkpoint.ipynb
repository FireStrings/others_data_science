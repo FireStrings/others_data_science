{
 "cells": [
  {
   "cell_type": "code",
   "execution_count": 59,
   "metadata": {},
   "outputs": [
    {
     "data": {
      "text/html": [
       "<div>\n",
       "<style scoped>\n",
       "    .dataframe tbody tr th:only-of-type {\n",
       "        vertical-align: middle;\n",
       "    }\n",
       "\n",
       "    .dataframe tbody tr th {\n",
       "        vertical-align: top;\n",
       "    }\n",
       "\n",
       "    .dataframe thead th {\n",
       "        text-align: right;\n",
       "    }\n",
       "</style>\n",
       "<table border=\"1\" class=\"dataframe\">\n",
       "  <thead>\n",
       "    <tr style=\"text-align: right;\">\n",
       "      <th></th>\n",
       "      <th>populacao</th>\n",
       "      <th>vendas</th>\n",
       "    </tr>\n",
       "  </thead>\n",
       "  <tbody>\n",
       "    <tr>\n",
       "      <th>0</th>\n",
       "      <td>18</td>\n",
       "      <td>871</td>\n",
       "    </tr>\n",
       "    <tr>\n",
       "      <th>1</th>\n",
       "      <td>23</td>\n",
       "      <td>1132</td>\n",
       "    </tr>\n",
       "    <tr>\n",
       "      <th>2</th>\n",
       "      <td>28</td>\n",
       "      <td>1242</td>\n",
       "    </tr>\n",
       "    <tr>\n",
       "      <th>3</th>\n",
       "      <td>33</td>\n",
       "      <td>1356</td>\n",
       "    </tr>\n",
       "    <tr>\n",
       "      <th>4</th>\n",
       "      <td>38</td>\n",
       "      <td>1488</td>\n",
       "    </tr>\n",
       "  </tbody>\n",
       "</table>\n",
       "</div>"
      ],
      "text/plain": [
       "   populacao  vendas\n",
       "0         18     871\n",
       "1         23    1132\n",
       "2         28    1242\n",
       "3         33    1356\n",
       "4         38    1488"
      ]
     },
     "execution_count": 59,
     "metadata": {},
     "output_type": "execute_result"
    }
   ],
   "source": [
    "import pandas as pd\n",
    "import numpy as np\n",
    "import matplotlib.pyplot as plt\n",
    "%matplotlib inline\n",
    "\n",
    "data = pd.read_csv(\"dados.csv\")\n",
    "\n",
    "data.head()\n"
   ]
  },
  {
   "cell_type": "code",
   "execution_count": 60,
   "metadata": {},
   "outputs": [
    {
     "data": {
      "text/plain": [
       "<matplotlib.axes._subplots.AxesSubplot at 0x7f9f04d68f98>"
      ]
     },
     "execution_count": 60,
     "metadata": {},
     "output_type": "execute_result"
    },
    {
     "data": {
      "image/png": "[encoded data removed]",
      "text/plain": [
       "<Figure size 432x288 with 1 Axes>"
      ]
     },
     "metadata": {
      "needs_background": "light"
     },
     "output_type": "display_data"
    }
   ],
   "source": [
    "import seaborn as sns\n",
    "\n",
    "sns.scatterplot(x=\"populacao\", y=\"vendas\", data=data)"
   ]
  },
  {
   "cell_type": "code",
   "execution_count": 3,
   "metadata": {},
   "outputs": [],
   "source": [
    "from sklearn.linear_model import LinearRegression"
   ]
  },
  {
   "cell_type": "code",
   "execution_count": 4,
   "metadata": {},
   "outputs": [
    {
     "data": {
      "text/plain": [
       "[array([18]),\n",
       " array([23]),\n",
       " array([28]),\n",
       " array([33]),\n",
       " array([38]),\n",
       " array([43]),\n",
       " array([48]),\n",
       " array([53]),\n",
       " array([58]),\n",
       " array([63]),\n",
       " array([65]),\n",
       " array([72]),\n",
       " array([77])]"
      ]
     },
     "execution_count": 4,
     "metadata": {},
     "output_type": "execute_result"
    }
   ],
   "source": [
    "modelo = LinearRegression()\n",
    "# X = np.array([[1, 1], [1, 2], [2, 2], [2, 3]])\n",
    "# y = np.dot(X, np.array([1, 2])) + 3\n",
    "\n",
    "X_ = data.iloc[:, 0].values\n",
    "y_ = data.iloc[:, 1].values\n",
    "\n",
    "X = [np.array([x]) for x in X_]\n",
    "y = [np.array([x]) for x in y_]\n",
    "modelo.fit(X,y)\n",
    "\n",
    "X"
   ]
  },
  {
   "cell_type": "code",
   "execution_count": 5,
   "metadata": {},
   "outputs": [
    {
     "data": {
      "text/plain": [
       "0.904742802613234"
      ]
     },
     "execution_count": 5,
     "metadata": {},
     "output_type": "execute_result"
    }
   ],
   "source": [
    "modelo.score(X,y)"
   ]
  },
  {
   "cell_type": "code",
   "execution_count": 9,
   "metadata": {},
   "outputs": [
    {
     "data": {
      "text/plain": [
       "array([-1328.62918014])"
      ]
     },
     "execution_count": 9,
     "metadata": {},
     "output_type": "execute_result"
    }
   ],
   "source": [
    "# modelo.coef_\n",
    "modelo.intercept_\n",
    "# y = ax+b\n",
    "# a = modelo.coef_\n",
    "# b = modelo.intercept_\n",
    "\n",
    "\n"
   ]
  },
  {
   "cell_type": "code",
   "execution_count": 56,
   "metadata": {},
   "outputs": [
    {
     "data": {
      "text/plain": [
       "1459"
      ]
     },
     "execution_count": 56,
     "metadata": {},
     "output_type": "execute_result"
    }
   ],
   "source": [
    "def teste(x):\n",
    "    a = 84.47686485\n",
    "    b = -1328.62918014\n",
    "    y = a*x + b\n",
    "    return round(y)\n",
    "\n",
    "    \n",
    "\n",
    "teste(33)\n",
    "# modelo.predict(np.array([[25]]))"
   ]
  },
  {
   "cell_type": "code",
   "execution_count": 58,
   "metadata": {},
   "outputs": [
    {
     "name": "stdout",
     "output_type": "stream",
     "text": [
      "86,6009\n",
      "100,7180\n",
      "101,7248\n",
      "108,7858\n",
      "112,8181\n",
      "113,8260\n",
      "115,8433\n",
      "116,8505\n",
      "117,8601\n",
      "131,9798\n",
      "132,9887\n",
      "135,10118\n",
      "137,10284\n",
      "139,10468\n",
      "144,10884\n",
      "148,11252\n",
      "150,11401\n",
      "151,11469\n",
      "152,11560\n",
      "154,11746\n",
      "156,11896\n",
      "158,12050\n",
      "159,12148\n",
      "160,12262\n",
      "161,12303\n",
      "162,12427\n",
      "163,12497\n",
      "164,12583\n",
      "165,12686\n",
      "166,12736\n",
      "167,12810\n",
      "168,12933\n",
      "169,12979\n",
      "170,13065\n",
      "171,13160\n",
      "173,13327\n",
      "174,13442\n",
      "176,13615\n",
      "177,13684\n",
      "178,13754\n",
      "179,13861\n",
      "180,13955\n",
      "181,14020\n",
      "182,14080\n",
      "183,14208\n",
      "184,14259\n",
      "185,14339\n",
      "186,14432\n",
      "187,14526\n",
      "188,14601\n",
      "189,14680\n",
      "190,14796\n",
      "191,14885\n",
      "192,14953\n",
      "193,15024\n",
      "194,15136\n",
      "195,15195\n",
      "196,15270\n",
      "197,15386\n",
      "198,15468\n",
      "199,15515\n"
     ]
    }
   ],
   "source": [
    "import random\n",
    "l = []\n",
    "for i in range(80, 200):\n",
    "    l.append(random.randrange(i, 200, random.randint(3, 8)))\n",
    "\n",
    "a = list(set(l))\n",
    "a.sort()\n",
    "\n",
    "for i in a:\n",
    "    print(str(i) + \",\" + str(teste(i)+random.randint(30, 800)))\n"
   ]
  },
  {
   "cell_type": "code",
   "execution_count": null,
   "metadata": {},
   "outputs": [],
   "source": []
  },
  {
   "cell_type": "code",
   "execution_count": null,
   "metadata": {},
   "outputs": [],
   "source": []
  }
 ],
 "metadata": {
  "kernelspec": {
   "display_name": "Python 3",
   "language": "python",
   "name": "python3"
  },
  "language_info": {
   "codemirror_mode": {
    "name": "ipython",
    "version": 3
   },
   "file_extension": ".py",
   "mimetype": "text/x-python",
   "name": "python",
   "nbconvert_exporter": "python",
   "pygments_lexer": "ipython3",
   "version": "3.6.9"
  }
 },
 "nbformat": 4,
 "nbformat_minor": 4
}
