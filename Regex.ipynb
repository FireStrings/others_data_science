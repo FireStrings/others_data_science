{
 "cells": [
  {
   "cell_type": "code",
   "execution_count": 1,
   "id": "dd405c5a-d378-4b7e-a8bc-c82e555fcade",
   "metadata": {},
   "outputs": [],
   "source": [
    "import re "
   ]
  },
  {
   "cell_type": "code",
   "execution_count": 65,
   "id": "fa413587-24e5-4115-aadc-7cea08376183",
   "metadata": {},
   "outputs": [
    {
     "data": {
      "text/plain": [
       "['ontem']"
      ]
     },
     "execution_count": 65,
     "metadata": {},
     "output_type": "execute_result"
    }
   ],
   "source": [
    "txt = \"Ontem faltou água, Anteontem faltou luz\"\n",
    "re.findall(\"ontem\", txt)"
   ]
  },
  {
   "cell_type": "code",
   "execution_count": 56,
   "id": "fd8b335e-20e1-4703-9aee-0c1d293857f7",
   "metadata": {},
   "outputs": [],
   "source": []
  },
  {
   "cell_type": "code",
   "execution_count": null,
   "id": "5ec0c46b-fa03-4153-8f03-13eba0546253",
   "metadata": {},
   "outputs": [],
   "source": []
  },
  {
   "cell_type": "code",
   "execution_count": 55,
   "id": "83c25059-31ad-4c5b-8bb4-9cb1748d1786",
   "metadata": {},
   "outputs": [],
   "source": []
  },
  {
   "cell_type": "code",
   "execution_count": null,
   "id": "7d2f1a5b-1876-4cc7-a64e-86d1662d236d",
   "metadata": {},
   "outputs": [],
   "source": []
  }
 ],
 "metadata": {
  "kernelspec": {
   "display_name": "Python 3 (ipykernel)",
   "language": "python",
   "name": "python3"
  },
  "language_info": {
   "codemirror_mode": {
    "name": "ipython",
    "version": 3
   },
   "file_extension": ".py",
   "mimetype": "text/x-python",
   "name": "python",
   "nbconvert_exporter": "python",
   "pygments_lexer": "ipython3",
   "version": "3.8.10"
  }
 },
 "nbformat": 4,
 "nbformat_minor": 5
}
