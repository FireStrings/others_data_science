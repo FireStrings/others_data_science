{
 "cells": [
  {
   "cell_type": "markdown",
   "id": "7dbd978f-1b1d-4a1f-b5dd-97db03c6aa24",
   "metadata": {},
   "source": [
    "# Morgan's laws"
   ]
  },
  {
   "cell_type": "markdown",
   "id": "40e9dd1e-98b8-4bfc-9760-ab9ab54b1c7d",
   "metadata": {},
   "source": [
    "### First Morgan's law: \n",
    "To deny two \"and\" propositions is equivalent to deny two \"or\" propositions <br>\n",
    "`¬(x^y)  ≡ ¬x v ¬y`\n"
   ]
  },
  {
   "cell_type": "code",
   "execution_count": 9,
   "id": "7bb8dd48-b650-47ad-81e4-aa750a02188d",
   "metadata": {},
   "outputs": [
    {
     "name": "stdout",
     "output_type": "stream",
     "text": [
      "True\n",
      "True\n"
     ]
    }
   ],
   "source": [
    "x = False\n",
    "y = True\n",
    "\n",
    "print(not (x and y))\n",
    "print(not x or not y)"
   ]
  },
  {
   "cell_type": "markdown",
   "id": "7fdf400f-90cf-4c9f-ad31-e385f263a7c6",
   "metadata": {},
   "source": [
    "### Second Morgan's law: \n",
    "To deny two \"or\" propositions is equivalent to deny two \"and\" propositions <br>\n",
    "`¬(x v y)  ≡ ¬x ^ ¬y`\n"
   ]
  },
  {
   "cell_type": "code",
   "execution_count": 13,
   "id": "0e71f104-6cf9-4cb6-9686-ec9536392604",
   "metadata": {},
   "outputs": [
    {
     "name": "stdout",
     "output_type": "stream",
     "text": [
      "False\n",
      "False\n"
     ]
    }
   ],
   "source": [
    "x = True\n",
    "y = True\n",
    "\n",
    "print(not (x or y))\n",
    "print(not x and not y)"
   ]
  },
  {
   "cell_type": "code",
   "execution_count": null,
   "id": "3a90e817-2834-427f-986e-56372fef1708",
   "metadata": {},
   "outputs": [],
   "source": []
  }
 ],
 "metadata": {
  "kernelspec": {
   "display_name": "Python 3 (ipykernel)",
   "language": "python",
   "name": "python3"
  },
  "language_info": {
   "codemirror_mode": {
    "name": "ipython",
    "version": 3
   },
   "file_extension": ".py",
   "mimetype": "text/x-python",
   "name": "python",
   "nbconvert_exporter": "python",
   "pygments_lexer": "ipython3",
   "version": "3.8.10"
  }
 },
 "nbformat": 4,
 "nbformat_minor": 5
}
