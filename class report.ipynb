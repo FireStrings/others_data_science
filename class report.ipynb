{
 "cells": [
  {
   "cell_type": "code",
   "execution_count": 12,
   "id": "f6c542a7-720e-46ac-a539-7dfe343c8139",
   "metadata": {},
   "outputs": [
    {
     "name": "stdout",
     "output_type": "stream",
     "text": [
      "              precision    recall  f1-score   support\n",
      "\n",
      "     class 0       0.67      0.67      0.67         3\n",
      "     class 1       0.50      0.50      0.50         2\n",
      "\n",
      "    accuracy                           0.60         5\n",
      "   macro avg       0.58      0.58      0.58         5\n",
      "weighted avg       0.60      0.60      0.60         5\n",
      "\n"
     ]
    }
   ],
   "source": [
    "from sklearn.metrics import classification_report\n",
    "import numpy as np\n",
    "import math\n",
    "y_true = [0, 1, 0, 0, 1]\n",
    "y_pred = [0, 0, 0, 1, 1]\n",
    "target_names = ['class 0', 'class 1']\n",
    "print(classification_report(y_true, y_pred, target_names=target_names))"
   ]
  },
  {
   "cell_type": "code",
   "execution_count": 6,
   "id": "25485037-010d-49da-9797-246fe30275d2",
   "metadata": {},
   "outputs": [
    {
     "data": {
      "text/plain": [
       "0.67"
      ]
     },
     "execution_count": 6,
     "metadata": {},
     "output_type": "execute_result"
    }
   ],
   "source": [
    "round(2/(2+1), 2)"
   ]
  },
  {
   "cell_type": "code",
   "execution_count": 10,
   "id": "42e656a5-3bc7-4179-8f54-7a88b272262b",
   "metadata": {},
   "outputs": [],
   "source": [
    "def get_my_entropy(labels):\n",
    "    counts = np.bincount(labels)\n",
    "    _len = len(labels)\n",
    "    l_r = []\n",
    "    for i in counts:\n",
    "        r = i/_len\n",
    "        r2 = -(r * math.log(r,2))\n",
    "        l_r.append(r2)\n",
    "\n",
    "    return sum(l_r)"
   ]
  },
  {
   "cell_type": "code",
   "execution_count": 15,
   "id": "7c91d5b8-1962-4aef-b5c4-f1f066840b63",
   "metadata": {},
   "outputs": [
    {
     "data": {
      "text/plain": [
       "0.8112781244591328"
      ]
     },
     "execution_count": 15,
     "metadata": {},
     "output_type": "execute_result"
    }
   ],
   "source": [
    "get_my_entropy([0,1,1,1])"
   ]
  },
  {
   "cell_type": "code",
   "execution_count": 16,
   "id": "cd81c2c9-c35e-406c-8b52-40adf7b90956",
   "metadata": {},
   "outputs": [],
   "source": [
    "def gini_index(labels):\n",
    "    n_labels = len(labels)\n",
    "    counts = np.bincount(labels)\n",
    "    c1, c2 = counts\n",
    "    prob_c1 = (c1/n_labels)**2\n",
    "    prob_c2 = (c2/n_labels)**2\n",
    "\n",
    "    return 1 - prob_c1 - prob_c2\n"
   ]
  },
  {
   "cell_type": "code",
   "execution_count": 18,
   "id": "f27d1d4d-6239-4977-9dbe-8527ca2a6413",
   "metadata": {},
   "outputs": [
    {
     "data": {
      "text/plain": [
       "0.486111111111111"
      ]
     },
     "execution_count": 18,
     "metadata": {},
     "output_type": "execute_result"
    }
   ],
   "source": [
    "gini_index([0,1,1,1,1,1,1,1,0,0,0,0])"
   ]
  },
  {
   "cell_type": "code",
   "execution_count": null,
   "id": "038d462b-9eea-449d-a5a1-ffeafc167702",
   "metadata": {},
   "outputs": [],
   "source": []
  }
 ],
 "metadata": {
  "kernelspec": {
   "display_name": "Python 3 (ipykernel)",
   "language": "python",
   "name": "python3"
  },
  "language_info": {
   "codemirror_mode": {
    "name": "ipython",
    "version": 3
   },
   "file_extension": ".py",
   "mimetype": "text/x-python",
   "name": "python",
   "nbconvert_exporter": "python",
   "pygments_lexer": "ipython3",
   "version": "3.8.10"
  }
 },
 "nbformat": 4,
 "nbformat_minor": 5
}
