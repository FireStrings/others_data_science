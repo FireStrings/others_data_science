{
 "cells": [
  {
   "cell_type": "code",
   "execution_count": 9,
   "id": "c5cb2f6a-1d27-46fb-b14b-8be693897a36",
   "metadata": {},
   "outputs": [],
   "source": [
    "from kedro.pipeline import node"
   ]
  },
  {
   "cell_type": "code",
   "execution_count": 10,
   "id": "161f353e-a068-45ca-a064-b1dee8669ed0",
   "metadata": {},
   "outputs": [],
   "source": [
    "# Prepare first node\n",
    "def return_greeting():\n",
    "    return \"Hello\""
   ]
  },
  {
   "cell_type": "code",
   "execution_count": 11,
   "id": "059cdecc-d9b4-4c6a-bbf1-4dea87d2c8a9",
   "metadata": {},
   "outputs": [],
   "source": [
    "return_greeting_node = node(func=return_greeting, inputs=None, outputs=\"my_salutation\")"
   ]
  },
  {
   "cell_type": "code",
   "execution_count": 12,
   "id": "998da50b-1d9b-411c-8e65-dad5de5205ca",
   "metadata": {},
   "outputs": [
    {
     "data": {
      "text/plain": [
       "Node(return_greeting, None, 'my_salutation', None)"
      ]
     },
     "execution_count": 12,
     "metadata": {},
     "output_type": "execute_result"
    }
   ],
   "source": [
    "return_greeting_node"
   ]
  },
  {
   "cell_type": "code",
   "execution_count": null,
   "id": "951bc20d-0e13-4e75-aa1a-1aad004dfbe7",
   "metadata": {},
   "outputs": [],
   "source": []
  }
 ],
 "metadata": {
  "kernelspec": {
   "display_name": "Python 3 (ipykernel)",
   "language": "python",
   "name": "python3"
  },
  "language_info": {
   "codemirror_mode": {
    "name": "ipython",
    "version": 3
   },
   "file_extension": ".py",
   "mimetype": "text/x-python",
   "name": "python",
   "nbconvert_exporter": "python",
   "pygments_lexer": "ipython3",
   "version": "3.6.9"
  }
 },
 "nbformat": 4,
 "nbformat_minor": 5
}
