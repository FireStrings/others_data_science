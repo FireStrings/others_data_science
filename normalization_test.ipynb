{
 "cells": [
  {
   "cell_type": "code",
   "execution_count": 8,
   "id": "f9eb7d93-65e5-49de-95f5-78417c2135bd",
   "metadata": {},
   "outputs": [],
   "source": [
    "import numpy as np\n",
    "import seaborn as sns\n",
    "import pandas as pd\n",
    "from scipy.stats import normaltest"
   ]
  },
  {
   "cell_type": "code",
   "execution_count": 18,
   "id": "6ab59772-8343-4936-b50f-4d24fc8f13f8",
   "metadata": {},
   "outputs": [],
   "source": [
    "n, p = 100, .5\n",
    "s1 = np.random.binomial(n, p, 1000)\n",
    "s2 = np.random.binomial(n, p, 10)\n",
    "p = np.random.chisquare(10,10)"
   ]
  },
  {
   "cell_type": "code",
   "execution_count": 20,
   "id": "ff4aa1bf-baee-486a-b0b0-e5733d5c82d1",
   "metadata": {},
   "outputs": [],
   "source": [
    "alpha = 0.05\n",
    "k2, p = normaltest(p)"
   ]
  },
  {
   "cell_type": "code",
   "execution_count": 10,
   "id": "1c001acc-15af-4753-810d-62c45d0a430e",
   "metadata": {},
   "outputs": [],
   "source": [
    "# sns.histplot(data=s1)"
   ]
  },
  {
   "cell_type": "code",
   "execution_count": 21,
   "id": "e59b6573-8dda-45a3-8909-90167a5af6f1",
   "metadata": {},
   "outputs": [
    {
     "data": {
      "text/plain": [
       "9.679550552589259"
      ]
     },
     "execution_count": 21,
     "metadata": {},
     "output_type": "execute_result"
    }
   ],
   "source": [
    "k2"
   ]
  },
  {
   "cell_type": "code",
   "execution_count": 22,
   "id": "7edf3736-92c5-426f-81e0-da9f54f42aa7",
   "metadata": {},
   "outputs": [
    {
     "data": {
      "text/plain": [
       "0.007908831153749492"
      ]
     },
     "execution_count": 22,
     "metadata": {},
     "output_type": "execute_result"
    }
   ],
   "source": [
    "p"
   ]
  },
  {
   "cell_type": "code",
   "execution_count": 19,
   "id": "dfe6e12d-d547-4f73-95ca-9731260883d3",
   "metadata": {},
   "outputs": [
    {
     "data": {
      "text/plain": [
       "(10,)"
      ]
     },
     "execution_count": 19,
     "metadata": {},
     "output_type": "execute_result"
    }
   ],
   "source": [
    "p.shape"
   ]
  },
  {
   "cell_type": "code",
   "execution_count": null,
   "id": "5497d861-45a6-470a-9ba5-5b01629767d5",
   "metadata": {},
   "outputs": [],
   "source": []
  }
 ],
 "metadata": {
  "kernelspec": {
   "display_name": "Python 3 (ipykernel)",
   "language": "python",
   "name": "python3"
  },
  "language_info": {
   "codemirror_mode": {
    "name": "ipython",
    "version": 3
   },
   "file_extension": ".py",
   "mimetype": "text/x-python",
   "name": "python",
   "nbconvert_exporter": "python",
   "pygments_lexer": "ipython3",
   "version": "3.6.9"
  }
 },
 "nbformat": 4,
 "nbformat_minor": 5
}
